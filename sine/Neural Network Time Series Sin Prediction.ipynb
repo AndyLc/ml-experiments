{
 "cells": [
  {
   "cell_type": "markdown",
   "metadata": {},
   "source": [
    "# Neural Network Sin Wave Time Series Prediction"
   ]
  },
  {
   "cell_type": "markdown",
   "metadata": {},
   "source": [
    "### Import Libraries\n",
    "First we want to import all the libraries that we will be needing. They are grouped by their functionality."
   ]
  },
  {
   "cell_type": "code",
   "execution_count": 1,
   "metadata": {
    "collapsed": false
   },
   "outputs": [
    {
     "name": "stderr",
     "output_type": "stream",
     "text": [
      "Using TensorFlow backend.\n"
     ]
    }
   ],
   "source": [
    "# load and plot dataset\n",
    "import pandas as pd #handles loading and editing data\n",
    "from matplotlib import pyplot #handles plotting data\n",
    "\n",
    "#Mathematical Operations\n",
    "from sklearn.metrics import mean_squared_error #a computation of error through averaging the squared error\n",
    "from sklearn.preprocessing import MinMaxScaler #Handles scaling between a and b\n",
    "\n",
    "#Keras models\n",
    "from keras.models import Sequential #neural network for a sequence of layers\n",
    "from keras.layers import Dense #Standard neural network layer\n",
    "from keras.layers import Activation #Non-linear functions in the neural network to make it non-linear.\n",
    "\n",
    "import numpy as np\n",
    "\n",
    "%matplotlib inline"
   ]
  },
  {
   "cell_type": "markdown",
   "metadata": {},
   "source": [
    "Because some computations are random, we will suppress the randomness to have reproducable results"
   ]
  },
  {
   "cell_type": "code",
   "execution_count": 44,
   "metadata": {
    "collapsed": false
   },
   "outputs": [],
   "source": [
    "np.random.seed(7)\n",
    "from tensorflow import set_random_seed\n",
    "set_random_seed(2)"
   ]
  },
  {
   "cell_type": "markdown",
   "metadata": {},
   "source": [
    "### Loading Data"
   ]
  },
  {
   "cell_type": "markdown",
   "metadata": {},
   "source": [
    "1. We will use pandas, imported as pd, to read the csv, sine.csv.\n",
    "\n",
    "2. We will then drop the first two rows because they are not numbers and are irrelevant to the sine function.\n",
    "\n",
    "3. Then we delete the column angle, because angle and sine are the same columns and we only need one column containing the values of sine.\n",
    "\n",
    "4. Then we ensure that the dataframe has float values.\n",
    "\n",
    "5. We then plot the dataframe using the .plot() functionality that pandas DataFrames have.\n",
    "\n",
    "6. We return df.head(5) to show the first 5 rows of what we have plotted"
   ]
  },
  {
   "cell_type": "code",
   "execution_count": 45,
   "metadata": {
    "collapsed": false
   },
   "outputs": [
    {
     "data": {
      "text/html": [
       "<div>\n",
       "<table border=\"1\" class=\"dataframe\">\n",
       "  <thead>\n",
       "    <tr style=\"text-align: right;\">\n",
       "      <th></th>\n",
       "      <th>sine</th>\n",
       "    </tr>\n",
       "  </thead>\n",
       "  <tbody>\n",
       "    <tr>\n",
       "      <th>2</th>\n",
       "      <td>0.000000</td>\n",
       "    </tr>\n",
       "    <tr>\n",
       "      <th>3</th>\n",
       "      <td>0.062791</td>\n",
       "    </tr>\n",
       "    <tr>\n",
       "      <th>4</th>\n",
       "      <td>0.125333</td>\n",
       "    </tr>\n",
       "    <tr>\n",
       "      <th>5</th>\n",
       "      <td>0.187381</td>\n",
       "    </tr>\n",
       "    <tr>\n",
       "      <th>6</th>\n",
       "      <td>0.248690</td>\n",
       "    </tr>\n",
       "  </tbody>\n",
       "</table>\n",
       "</div>"
      ],
      "text/plain": [
       "       sine\n",
       "2  0.000000\n",
       "3  0.062791\n",
       "4  0.125333\n",
       "5  0.187381\n",
       "6  0.248690"
      ]
     },
     "execution_count": 45,
     "metadata": {},
     "output_type": "execute_result"
    },
    {
     "data": {
      "image/png": "[encoded data removed]",
      "text/plain": [
       "<matplotlib.figure.Figure at 0x12272fd30>"
      ]
     },
     "metadata": {},
     "output_type": "display_data"
    }
   ],
   "source": [
    "df = pd.read_csv('sine.csv')\n",
    "df = df.drop([0, 1])\n",
    "del df['angle']\n",
    "df=df.astype(float)\n",
    "df.plot()\n",
    "df.head(5)"
   ]
  },
  {
   "cell_type": "markdown",
   "metadata": {},
   "source": [
    "### Timeseries to Supervised\n",
    "We have a function <strong>timeseries_to_supervised</strong> to convert time series data into a supervised dataset. What this means is that we make the dataset have a X and a Y, an input and an output. \n",
    "\n",
    "The original dataset is structured in one column containing values t_0, t_1, t_2, t_3, t_4, ... all the way to the end of the dataset.\n",
    "In our case we have 6 inputs and 1 output. We convert it to a supervised learning set so each row is structured as \n",
    "t_0, t_1, t_2, t_3, t_4, t_5, t_6, where t_6 is the output, Y, and t_0, t_1, t_2, t_3, t_4, t_5 are X. The next row is shifted by one timestep, so we have a row containing t_1, t_2, t_3, t_4, t_5, t_6, t_7, where t_7 is the output, Y, and t_1 through t_6 are the inputs. Therefore, we now have a structure where the last 6 timesteps are used to evaluate the next timestep, a supervised learning structure where we have a clear input and output.\n",
    "\n",
    "The function is written so that <strong>lag</strong> can be set, where lag is the number of timesteps in X."
   ]
  },
  {
   "cell_type": "code",
   "execution_count": 46,
   "metadata": {
    "collapsed": false
   },
   "outputs": [
    {
     "data": {
      "text/html": [
       "<div>\n",
       "<table border=\"1\" class=\"dataframe\">\n",
       "  <thead>\n",
       "    <tr style=\"text-align: right;\">\n",
       "      <th></th>\n",
       "      <th>0</th>\n",
       "      <th>0</th>\n",
       "      <th>0</th>\n",
       "      <th>0</th>\n",
       "      <th>0</th>\n",
       "      <th>0</th>\n",
       "      <th>0</th>\n",
       "    </tr>\n",
       "  </thead>\n",
       "  <tbody>\n",
       "    <tr>\n",
       "      <th>6</th>\n",
       "      <td>0.000000</td>\n",
       "      <td>0.062791</td>\n",
       "      <td>0.125333</td>\n",
       "      <td>0.187381</td>\n",
       "      <td>0.248690</td>\n",
       "      <td>0.309017</td>\n",
       "      <td>0.368125</td>\n",
       "    </tr>\n",
       "    <tr>\n",
       "      <th>7</th>\n",
       "      <td>0.062791</td>\n",
       "      <td>0.125333</td>\n",
       "      <td>0.187381</td>\n",
       "      <td>0.248690</td>\n",
       "      <td>0.309017</td>\n",
       "      <td>0.368125</td>\n",
       "      <td>0.425779</td>\n",
       "    </tr>\n",
       "    <tr>\n",
       "      <th>8</th>\n",
       "      <td>0.125333</td>\n",
       "      <td>0.187381</td>\n",
       "      <td>0.248690</td>\n",
       "      <td>0.309017</td>\n",
       "      <td>0.368125</td>\n",
       "      <td>0.425779</td>\n",
       "      <td>0.481754</td>\n",
       "    </tr>\n",
       "    <tr>\n",
       "      <th>9</th>\n",
       "      <td>0.187381</td>\n",
       "      <td>0.248690</td>\n",
       "      <td>0.309017</td>\n",
       "      <td>0.368125</td>\n",
       "      <td>0.425779</td>\n",
       "      <td>0.481754</td>\n",
       "      <td>0.535827</td>\n",
       "    </tr>\n",
       "    <tr>\n",
       "      <th>10</th>\n",
       "      <td>0.248690</td>\n",
       "      <td>0.309017</td>\n",
       "      <td>0.368125</td>\n",
       "      <td>0.425779</td>\n",
       "      <td>0.481754</td>\n",
       "      <td>0.535827</td>\n",
       "      <td>0.587785</td>\n",
       "    </tr>\n",
       "  </tbody>\n",
       "</table>\n",
       "</div>"
      ],
      "text/plain": [
       "           0         0         0         0         0         0         0\n",
       "6   0.000000  0.062791  0.125333  0.187381  0.248690  0.309017  0.368125\n",
       "7   0.062791  0.125333  0.187381  0.248690  0.309017  0.368125  0.425779\n",
       "8   0.125333  0.187381  0.248690  0.309017  0.368125  0.425779  0.481754\n",
       "9   0.187381  0.248690  0.309017  0.368125  0.425779  0.481754  0.535827\n",
       "10  0.248690  0.309017  0.368125  0.425779  0.481754  0.535827  0.587785"
      ]
     },
     "execution_count": 46,
     "metadata": {},
     "output_type": "execute_result"
    }
   ],
   "source": [
    "def timeseries_to_supervised(data, lag=1):\n",
    "\tdf = pd.DataFrame(data)\n",
    "\tcolumns = [df.shift(lag+1 - i) for i in range(1, lag+1)]\n",
    "\tcolumns.append(df)\n",
    "\tdf = pd.concat(columns, axis=1)\n",
    "\tdf.fillna(0, inplace=True)\n",
    "\treturn df\n",
    "\n",
    "input_dim = 6\n",
    "supervised = timeseries_to_supervised(df.values, input_dim)\n",
    "supervised = supervised.drop(range(input_dim))\n",
    "supervised.head()"
   ]
  },
  {
   "cell_type": "markdown",
   "metadata": {},
   "source": [
    "1. We will get the values of this dataset in array form by calling .values on supervised, the DataFrame.\n",
    "2. We create a MinMaxScaler object, giving a range of 0 to 1, the range it will scale the input dataset.\n",
    "3. We fit the scaler to the values from supervised, so now the scaler knows to scale all values relative to the values from supervised. In otherwords, when scaling other data, we must input a set that has the same column size as the original.\n",
    "4. We call scaler.transform to actually scale the data. scaler.transform returns a scaled data set whereas .fit only sets the settings for scaler."
   ]
  },
  {
   "cell_type": "code",
   "execution_count": 47,
   "metadata": {
    "collapsed": false
   },
   "outputs": [],
   "source": [
    "data = supervised.values\n",
    "scaler = MinMaxScaler(feature_range=(0, 1))\n",
    "scaler.fit(data)\n",
    "data = scaler.transform(data)"
   ]
  },
  {
   "cell_type": "markdown",
   "metadata": {},
   "source": [
    "### Splitting into Trained and Tested\n",
    "We will split the data into training and testing. First we calculate an integer for the index we will split at, split_num. Then we separate data into train and test. Because train and test are numpy arrays, we can further split by columns using python array slicing notation on a different axis. Finally, we will reshape x_train, y_train, x_test, and y_test because out model takes in a 3 dimentional input shape and not a 2 dimentional input shape."
   ]
  },
  {
   "cell_type": "code",
   "execution_count": 48,
   "metadata": {
    "collapsed": false
   },
   "outputs": [],
   "source": [
    "split_test_size = 0.276\n",
    "split_num = round(data.shape[0] * (1 - split_test_size))\n",
    "\n",
    "train = data[:split_num]\n",
    "test = data[split_num:]\n",
    "\n",
    "x_train, y_train = train[:,:-1], train[:, -1:]\n",
    "x_test, y_test = test[:, :-1], test[:, -1:]\n",
    "\n",
    "x_train = x_train.reshape(x_train.shape[0], 1, x_train.shape[1])\n",
    "y_train = y_train.reshape(y_train.shape[0], 1, y_train.shape[1])\n",
    "x_test = x_test.reshape(x_test.shape[0], 1, x_test.shape[1])\n",
    "y_test = y_test.reshape(y_test.shape[0], 1, y_test.shape[1])"
   ]
  },
  {
   "cell_type": "markdown",
   "metadata": {},
   "source": [
    "### Building the Model\n",
    "Our model will have an input dimention, which we set above when we converted our dataset to a supervised problem, as 6. The model is a Sequential, meaning that it's a sequence of layers. After the first layer we apply the tanh function to what the first layer outputs in order to eliminate linearity. We feed that to a 5 node Dense layer and then into a relu function. After that we feed it to a 3 node Dense layer and then an output layer of 1 node because we will be outputing one value, the value at the next timestep.\n",
    "\n",
    "We compile the model using a loss function of mean_squared_error and we use the optimizer algorithm of adam. Optimizers are algorithms for neural networks that will attempt to minimize the loss, which in our case is calculated by mean_squared_error."
   ]
  },
  {
   "cell_type": "code",
   "execution_count": 49,
   "metadata": {
    "collapsed": false
   },
   "outputs": [],
   "source": [
    "model = Sequential()\n",
    "\n",
    "model.add(Dense(input_dim, input_shape=(1, input_dim)))\n",
    "model.add(Activation(\"tanh\"))\n",
    "model.add(Dense(5))\n",
    "model.add(Activation(\"relu\"))\n",
    "model.add(Dense(3))\n",
    "model.add(Dense(1))\n",
    "\n",
    "model.compile(loss='mean_squared_error', optimizer='adam')"
   ]
  },
  {
   "cell_type": "markdown",
   "metadata": {},
   "source": [
    "Finally we fit our values for x and y. We will run this 200 times and shuffle our training values every time. "
   ]
  },
  {
   "cell_type": "code",
   "execution_count": 50,
   "metadata": {
    "collapsed": false,
    "scrolled": true
   },
   "outputs": [
    {
     "name": "stdout",
     "output_type": "stream",
     "text": [
      "Epoch 1/200\n",
      "0s - loss: 0.3602\n",
      "Epoch 2/200\n",
      "0s - loss: 0.3044\n",
      "Epoch 3/200\n",
      "0s - loss: 0.2534\n",
      "Epoch 4/200\n",
      "0s - loss: 0.2060\n",
      "Epoch 5/200\n",
      "0s - loss: 0.1645\n",
      "Epoch 6/200\n",
      "0s - loss: 0.1290\n",
      "Epoch 7/200\n",
      "0s - loss: 0.0985\n",
      "Epoch 8/200\n",
      "0s - loss: 0.0746\n",
      "Epoch 9/200\n",
      "0s - loss: 0.0549\n",
      "Epoch 10/200\n",
      "0s - loss: 0.0404\n",
      "Epoch 11/200\n",
      "0s - loss: 0.0291\n",
      "Epoch 12/200\n",
      "0s - loss: 0.0210\n",
      "Epoch 13/200\n",
      "0s - loss: 0.0148\n",
      "Epoch 14/200\n",
      "0s - loss: 0.0106\n",
      "Epoch 15/200\n",
      "0s - loss: 0.0075\n",
      "Epoch 16/200\n",
      "0s - loss: 0.0054\n",
      "Epoch 17/200\n",
      "0s - loss: 0.0038\n",
      "Epoch 18/200\n",
      "0s - loss: 0.0027\n",
      "Epoch 19/200\n",
      "0s - loss: 0.0020\n",
      "Epoch 20/200\n",
      "0s - loss: 0.0014\n",
      "Epoch 21/200\n",
      "0s - loss: 0.0011\n",
      "Epoch 22/200\n",
      "0s - loss: 7.7539e-04\n",
      "Epoch 23/200\n",
      "0s - loss: 5.8573e-04\n",
      "Epoch 24/200\n",
      "0s - loss: 4.3505e-04\n",
      "Epoch 25/200\n",
      "0s - loss: 3.2776e-04\n",
      "Epoch 26/200\n",
      "0s - loss: 2.5305e-04\n",
      "Epoch 27/200\n",
      "0s - loss: 1.9222e-04\n",
      "Epoch 28/200\n",
      "0s - loss: 1.5379e-04\n",
      "Epoch 29/200\n",
      "0s - loss: 1.2268e-04\n",
      "Epoch 30/200\n",
      "0s - loss: 1.0217e-04\n",
      "Epoch 31/200\n",
      "0s - loss: 7.7553e-05\n",
      "Epoch 32/200\n",
      "0s - loss: 6.1189e-05\n",
      "Epoch 33/200\n",
      "0s - loss: 4.7599e-05\n",
      "Epoch 34/200\n",
      "0s - loss: 3.9110e-05\n",
      "Epoch 35/200\n",
      "0s - loss: 3.7672e-05\n",
      "Epoch 36/200\n",
      "0s - loss: 2.9192e-05\n",
      "Epoch 37/200\n",
      "0s - loss: 2.4118e-05\n",
      "Epoch 38/200\n",
      "0s - loss: 1.9309e-05\n",
      "Epoch 39/200\n",
      "0s - loss: 1.5612e-05\n",
      "Epoch 40/200\n",
      "0s - loss: 1.5838e-05\n",
      "Epoch 41/200\n",
      "0s - loss: 1.2232e-05\n",
      "Epoch 42/200\n",
      "0s - loss: 1.0388e-05\n",
      "Epoch 43/200\n",
      "0s - loss: 8.8979e-06\n",
      "Epoch 44/200\n",
      "0s - loss: 8.2340e-06\n",
      "Epoch 45/200\n",
      "0s - loss: 7.2290e-06\n",
      "Epoch 46/200\n",
      "0s - loss: 6.3360e-06\n",
      "Epoch 47/200\n",
      "0s - loss: 5.7843e-06\n",
      "Epoch 48/200\n",
      "0s - loss: 6.2568e-06\n",
      "Epoch 49/200\n",
      "0s - loss: 8.2289e-06\n",
      "Epoch 50/200\n",
      "0s - loss: 5.0864e-06\n",
      "Epoch 51/200\n",
      "0s - loss: 4.3425e-06\n",
      "Epoch 52/200\n",
      "0s - loss: 3.9057e-06\n",
      "Epoch 53/200\n",
      "0s - loss: 4.6722e-06\n",
      "Epoch 54/200\n",
      "0s - loss: 4.7195e-06\n",
      "Epoch 55/200\n",
      "0s - loss: 6.0019e-06\n",
      "Epoch 56/200\n",
      "0s - loss: 3.5652e-06\n",
      "Epoch 57/200\n",
      "0s - loss: 4.2805e-06\n",
      "Epoch 58/200\n",
      "0s - loss: 3.3946e-06\n",
      "Epoch 59/200\n",
      "0s - loss: 3.7061e-06\n",
      "Epoch 60/200\n",
      "0s - loss: 3.1739e-06\n",
      "Epoch 61/200\n",
      "0s - loss: 3.5537e-06\n",
      "Epoch 62/200\n",
      "0s - loss: 3.0962e-06\n",
      "Epoch 63/200\n",
      "0s - loss: 2.8555e-06\n",
      "Epoch 64/200\n",
      "0s - loss: 3.1706e-06\n",
      "Epoch 65/200\n",
      "0s - loss: 3.9846e-06\n",
      "Epoch 66/200\n",
      "0s - loss: 3.8394e-06\n",
      "Epoch 67/200\n",
      "0s - loss: 5.9260e-06\n",
      "Epoch 68/200\n",
      "0s - loss: 5.7777e-06\n",
      "Epoch 69/200\n",
      "0s - loss: 1.2745e-05\n",
      "Epoch 70/200\n",
      "0s - loss: 6.1985e-06\n",
      "Epoch 71/200\n",
      "0s - loss: 3.8546e-06\n",
      "Epoch 72/200\n",
      "0s - loss: 2.5929e-06\n",
      "Epoch 73/200\n",
      "0s - loss: 2.3778e-06\n",
      "Epoch 74/200\n",
      "0s - loss: 2.6459e-06\n",
      "Epoch 75/200\n",
      "0s - loss: 3.5415e-06\n",
      "Epoch 76/200\n",
      "0s - loss: 2.2314e-06\n",
      "Epoch 77/200\n",
      "0s - loss: 3.0709e-06\n",
      "Epoch 78/200\n",
      "0s - loss: 2.8981e-06\n",
      "Epoch 79/200\n",
      "0s - loss: 2.3152e-06\n",
      "Epoch 80/200\n",
      "0s - loss: 2.6971e-06\n",
      "Epoch 81/200\n",
      "0s - loss: 2.3375e-06\n",
      "Epoch 82/200\n",
      "0s - loss: 1.5318e-06\n",
      "Epoch 83/200\n",
      "0s - loss: 1.5773e-06\n",
      "Epoch 84/200\n",
      "0s - loss: 5.0747e-06\n",
      "Epoch 85/200\n",
      "0s - loss: 5.3776e-06\n",
      "Epoch 86/200\n",
      "0s - loss: 3.6180e-06\n",
      "Epoch 87/200\n",
      "0s - loss: 2.5743e-06\n",
      "Epoch 88/200\n",
      "0s - loss: 2.2440e-06\n",
      "Epoch 89/200\n",
      "0s - loss: 3.1839e-06\n",
      "Epoch 90/200\n",
      "0s - loss: 3.2390e-06\n",
      "Epoch 91/200\n",
      "0s - loss: 1.7788e-06\n",
      "Epoch 92/200\n",
      "0s - loss: 1.7029e-06\n",
      "Epoch 93/200\n",
      "0s - loss: 1.8577e-06\n",
      "Epoch 94/200\n",
      "0s - loss: 1.9743e-06\n",
      "Epoch 95/200\n",
      "0s - loss: 1.4130e-06\n",
      "Epoch 96/200\n",
      "0s - loss: 1.4723e-06\n",
      "Epoch 97/200\n",
      "0s - loss: 2.2731e-06\n",
      "Epoch 98/200\n",
      "0s - loss: 1.7447e-06\n",
      "Epoch 99/200\n",
      "0s - loss: 1.6198e-06\n",
      "Epoch 100/200\n",
      "0s - loss: 1.0599e-06\n",
      "Epoch 101/200\n",
      "0s - loss: 1.8086e-06\n",
      "Epoch 102/200\n",
      "0s - loss: 5.2518e-06\n",
      "Epoch 103/200\n",
      "0s - loss: 7.7425e-06\n",
      "Epoch 104/200\n",
      "0s - loss: 2.3624e-06\n",
      "Epoch 105/200\n",
      "0s - loss: 2.8726e-06\n",
      "Epoch 106/200\n",
      "0s - loss: 1.7085e-06\n",
      "Epoch 107/200\n",
      "0s - loss: 1.5346e-06\n",
      "Epoch 108/200\n",
      "0s - loss: 1.9875e-06\n",
      "Epoch 109/200\n",
      "0s - loss: 1.0422e-06\n",
      "Epoch 110/200\n",
      "0s - loss: 1.4566e-06\n",
      "Epoch 111/200\n",
      "0s - loss: 1.7118e-06\n",
      "Epoch 112/200\n",
      "0s - loss: 1.8550e-06\n",
      "Epoch 113/200\n",
      "0s - loss: 1.0765e-06\n",
      "Epoch 114/200\n",
      "0s - loss: 1.7026e-06\n",
      "Epoch 115/200\n",
      "0s - loss: 3.5165e-06\n",
      "Epoch 116/200\n",
      "0s - loss: 1.4664e-06\n",
      "Epoch 117/200\n",
      "0s - loss: 1.0832e-06\n",
      "Epoch 118/200\n",
      "0s - loss: 1.6724e-06\n",
      "Epoch 119/200\n",
      "0s - loss: 1.7939e-06\n",
      "Epoch 120/200\n",
      "0s - loss: 1.1723e-06\n",
      "Epoch 121/200\n",
      "0s - loss: 1.1199e-06\n",
      "Epoch 122/200\n",
      "0s - loss: 1.2016e-06\n",
      "Epoch 123/200\n",
      "0s - loss: 8.9918e-07\n",
      "Epoch 124/200\n",
      "0s - loss: 1.3764e-06\n",
      "Epoch 125/200\n",
      "0s - loss: 1.3925e-06\n",
      "Epoch 126/200\n",
      "0s - loss: 1.0912e-06\n",
      "Epoch 127/200\n",
      "0s - loss: 5.6781e-06\n",
      "Epoch 128/200\n",
      "0s - loss: 5.0651e-06\n",
      "Epoch 129/200\n",
      "0s - loss: 1.6821e-06\n",
      "Epoch 130/200\n",
      "0s - loss: 1.3237e-06\n",
      "Epoch 131/200\n",
      "0s - loss: 2.0384e-06\n",
      "Epoch 132/200\n",
      "0s - loss: 1.2314e-06\n",
      "Epoch 133/200\n",
      "0s - loss: 1.5726e-06\n",
      "Epoch 134/200\n",
      "0s - loss: 2.1690e-06\n",
      "Epoch 135/200\n",
      "0s - loss: 1.4525e-06\n",
      "Epoch 136/200\n",
      "0s - loss: 1.3624e-06\n",
      "Epoch 137/200\n",
      "0s - loss: 1.3447e-06\n",
      "Epoch 138/200\n",
      "0s - loss: 1.4623e-06\n",
      "Epoch 139/200\n",
      "0s - loss: 2.5350e-06\n",
      "Epoch 140/200\n",
      "0s - loss: 4.4387e-06\n",
      "Epoch 141/200\n",
      "0s - loss: 2.7936e-06\n",
      "Epoch 142/200\n",
      "0s - loss: 1.5272e-06\n",
      "Epoch 143/200\n",
      "0s - loss: 2.0060e-06\n",
      "Epoch 144/200\n",
      "0s - loss: 8.3589e-07\n",
      "Epoch 145/200\n",
      "0s - loss: 8.7372e-07\n",
      "Epoch 146/200\n",
      "0s - loss: 1.4282e-06\n",
      "Epoch 147/200\n",
      "0s - loss: 1.6251e-06\n",
      "Epoch 148/200\n",
      "0s - loss: 4.0218e-06\n",
      "Epoch 149/200\n",
      "0s - loss: 9.7009e-06\n",
      "Epoch 150/200\n",
      "0s - loss: 2.1858e-06\n",
      "Epoch 151/200\n",
      "0s - loss: 9.7940e-07\n",
      "Epoch 152/200\n",
      "0s - loss: 1.2948e-06\n",
      "Epoch 153/200\n",
      "0s - loss: 1.3160e-06\n",
      "Epoch 154/200\n",
      "0s - loss: 2.3223e-06\n",
      "Epoch 155/200\n",
      "0s - loss: 1.9427e-06\n",
      "Epoch 156/200\n",
      "0s - loss: 1.9633e-06\n",
      "Epoch 157/200\n",
      "0s - loss: 5.1612e-06\n",
      "Epoch 158/200\n",
      "0s - loss: 1.5690e-06\n",
      "Epoch 159/200\n",
      "0s - loss: 4.1881e-06\n",
      "Epoch 160/200\n",
      "0s - loss: 1.8402e-06\n",
      "Epoch 161/200\n",
      "0s - loss: 2.5631e-06\n",
      "Epoch 162/200\n",
      "0s - loss: 3.6181e-06\n",
      "Epoch 163/200\n",
      "0s - loss: 9.4883e-07\n",
      "Epoch 164/200\n",
      "0s - loss: 8.1073e-07\n",
      "Epoch 165/200\n",
      "0s - loss: 1.0153e-06\n",
      "Epoch 166/200\n",
      "0s - loss: 1.4887e-06\n",
      "Epoch 167/200\n",
      "0s - loss: 1.0883e-06\n",
      "Epoch 168/200\n",
      "0s - loss: 8.2580e-07\n",
      "Epoch 169/200\n",
      "0s - loss: 9.2036e-07\n",
      "Epoch 170/200\n",
      "0s - loss: 1.1077e-06\n",
      "Epoch 171/200\n",
      "0s - loss: 2.1411e-06\n",
      "Epoch 172/200\n",
      "0s - loss: 3.9038e-06\n",
      "Epoch 173/200\n",
      "0s - loss: 2.1465e-06\n",
      "Epoch 174/200\n",
      "0s - loss: 1.0513e-06\n",
      "Epoch 175/200\n",
      "0s - loss: 1.2404e-06\n",
      "Epoch 176/200\n",
      "0s - loss: 1.1531e-05\n",
      "Epoch 177/200\n",
      "0s - loss: 5.7139e-06\n",
      "Epoch 178/200\n",
      "0s - loss: 1.9386e-06\n",
      "Epoch 179/200\n",
      "0s - loss: 2.2428e-06\n",
      "Epoch 180/200\n",
      "0s - loss: 1.3198e-06\n",
      "Epoch 181/200\n",
      "0s - loss: 1.5006e-06\n",
      "Epoch 182/200\n",
      "0s - loss: 7.8746e-07\n",
      "Epoch 183/200\n",
      "0s - loss: 1.6157e-06\n",
      "Epoch 184/200\n",
      "0s - loss: 1.0738e-06\n",
      "Epoch 185/200\n",
      "0s - loss: 1.4314e-06\n",
      "Epoch 186/200\n",
      "0s - loss: 2.5644e-06\n",
      "Epoch 187/200\n",
      "0s - loss: 3.7939e-06\n",
      "Epoch 188/200\n",
      "0s - loss: 1.1510e-06\n",
      "Epoch 189/200\n",
      "0s - loss: 7.7126e-07\n",
      "Epoch 190/200\n",
      "0s - loss: 9.3441e-07\n",
      "Epoch 191/200\n",
      "0s - loss: 8.9538e-07\n",
      "Epoch 192/200\n",
      "0s - loss: 1.1863e-06\n",
      "Epoch 193/200\n",
      "0s - loss: 9.7681e-07\n",
      "Epoch 194/200\n",
      "0s - loss: 1.2039e-06\n",
      "Epoch 195/200\n",
      "0s - loss: 1.4740e-06\n",
      "Epoch 196/200\n",
      "0s - loss: 7.9594e-07\n",
      "Epoch 197/200\n",
      "0s - loss: 1.1275e-06\n",
      "Epoch 198/200\n",
      "0s - loss: 1.1572e-06\n",
      "Epoch 199/200\n",
      "0s - loss: 1.0455e-06\n",
      "Epoch 200/200\n",
      "0s - loss: 8.0039e-07\n"
     ]
    },
    {
     "data": {
      "text/plain": [
       "<keras.callbacks.History at 0x122a8be80>"
      ]
     },
     "execution_count": 50,
     "metadata": {},
     "output_type": "execute_result"
    }
   ],
   "source": [
    "model.fit(x_train, y_train, epochs=200, verbose=2, shuffle=True)"
   ]
  },
  {
   "cell_type": "markdown",
   "metadata": {},
   "source": [
    "After 200 rounds we got a very low loss, which is very good. However this is a sin function that has no noise, so in real world applications we expect more loss. "
   ]
  },
  {
   "cell_type": "markdown",
   "metadata": {},
   "source": [
    "### Testing the Model\n",
    "We will now predict the values for sin given our x_test set using model.predict\n",
    "In order to see if our predictions are accurate, we compare it to the real values in y_test. In order to plot it, we first must flatten our dataset, as .plot does not take 3D shapes."
   ]
  },
  {
   "cell_type": "code",
   "execution_count": 51,
   "metadata": {
    "collapsed": false
   },
   "outputs": [],
   "source": [
    "predictions = model.predict(x_test)"
   ]
  },
  {
   "cell_type": "markdown",
   "metadata": {},
   "source": [
    "We set the title of the graph using pyplot and plot pred and real, giving them labels. In order to show the labels we call pyplot.legend() and then show the plot using pyplot.show()."
   ]
  },
  {
   "cell_type": "code",
   "execution_count": 52,
   "metadata": {
    "collapsed": false
   },
   "outputs": [
    {
     "data": {
      "image/png": "[encoded data removed]",
      "text/plain": [
       "<matplotlib.figure.Figure at 0x122bd0710>"
      ]
     },
     "metadata": {},
     "output_type": "display_data"
    }
   ],
   "source": [
    "pred = predictions.flatten()\n",
    "real = y_test.flatten()\n",
    "pyplot.title('Sin Wave Neural Network')\n",
    "pyplot.plot(pred, 'r-', label='Predicted')\n",
    "pyplot.plot(real, 'b-', label='Correct')\n",
    "pyplot.legend()\n",
    "pyplot.show()"
   ]
  },
  {
   "cell_type": "markdown",
   "metadata": {},
   "source": [
    "### Testing the Model's Long Term Prediction Accuracy"
   ]
  },
  {
   "cell_type": "markdown",
   "metadata": {},
   "source": [
    "Something we need to note is that this is very deceptively accurate depending on your application. We have two uses for time series, the first is prediction the future and the second is detecting anomalies. What the previous evaluation did is use x values to predict the next timestep, t+1 for given the last few timesteps, t, t-1, t-2, etc. \n",
    "\n",
    "In order to detect anomalies this is fine because anomaly detection is about making a prediction for the next few time steps and detecting the difference between what we predicted/expected and what we actually got. \n",
    "\n",
    "However, when we want to predict far into the future, we need to test the accuracy in a different way. We will use t-5, t-4, t-3, t-2, t-1, t to predict t+1 first. With the predicted value, we then use t-4, t-3, t-2, t-1, t, t+1 to predict t+2. However the error in each prediction amplifies because it affects the next prediction. Let's test this.\n"
   ]
  },
  {
   "cell_type": "code",
   "execution_count": 53,
   "metadata": {
    "collapsed": false
   },
   "outputs": [
    {
     "name": "stderr",
     "output_type": "stream",
     "text": [
      "/Users/Home/anaconda/lib/python3.5/site-packages/ipykernel/__main__.py:4: FutureWarning: comparison to `None` will result in an elementwise object comparison in the future.\n"
     ]
    }
   ],
   "source": [
    "predictions = []\n",
    "last_predicted = None\n",
    "for t in x_test:\n",
    "    if last_predicted == None:\n",
    "        last_predicted = t.reshape(1, 1, input_dim)[:,:,1:]\n",
    "        y_pred = model.predict(t.reshape(1, 1, input_dim), batch_size=1)\n",
    "        last_predicted = np.append(last_predicted, y_pred)\n",
    "        predictions.append(y_pred)\n",
    "    else:\n",
    "        y_pred = model.predict(last_predicted.reshape(1, 1, input_dim), batch_size=1)\n",
    "        last_predicted = np.append(last_predicted[1:], y_pred)\n",
    "        predictions.append(y_pred)\n",
    "        \n",
    "predictions = np.array(predictions)"
   ]
  },
  {
   "cell_type": "code",
   "execution_count": 54,
   "metadata": {
    "collapsed": false
   },
   "outputs": [
    {
     "data": {
      "image/png": "[encoded data removed]",
      "text/plain": [
       "<matplotlib.figure.Figure at 0x122bd68d0>"
      ]
     },
     "metadata": {},
     "output_type": "display_data"
    }
   ],
   "source": [
    "#Temperature Predictions\n",
    "pred = predictions.flatten()\n",
    "real = y_test.flatten()\n",
    "\n",
    "pyplot.title('Sin Wave Neural Network')\n",
    "pyplot.plot(pred, 'r-', label='Predicted')\n",
    "pyplot.plot(real, 'b-', label='Correct')\n",
    "pyplot.legend()\n",
    "pyplot.show()"
   ]
  },
  {
   "cell_type": "markdown",
   "metadata": {},
   "source": [
    "Thus, we have predicted the next 250 timesteps, but it's far more innacurate."
   ]
  }
 ],
 "metadata": {
  "anaconda-cloud": {},
  "kernelspec": {
   "display_name": "Python [Root]",
   "language": "python",
   "name": "Python [Root]"
  },
  "language_info": {
   "codemirror_mode": {
    "name": "ipython",
    "version": 3
   },
   "file_extension": ".py",
   "mimetype": "text/x-python",
   "name": "python",
   "nbconvert_exporter": "python",
   "pygments_lexer": "ipython3",
   "version": "3.5.2"
  }
 },
 "nbformat": 4,
 "nbformat_minor": 0
}
