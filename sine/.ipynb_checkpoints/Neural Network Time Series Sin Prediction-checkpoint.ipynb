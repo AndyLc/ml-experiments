{
 "cells": [
  {
   "cell_type": "markdown",
   "metadata": {},
   "source": [
    "# Neural Network Sin Wave Time Series Prediction"
   ]
  },
  {
   "cell_type": "markdown",
   "metadata": {},
   "source": [
    "### Import Libraries\n",
    "First we want to import all the libraries that we will be needing. They are grouped by their functionality."
   ]
  },
  {
   "cell_type": "code",
   "execution_count": 1,
   "metadata": {
    "collapsed": false
   },
   "outputs": [
    {
     "name": "stderr",
     "output_type": "stream",
     "text": [
      "Using TensorFlow backend.\n"
     ]
    }
   ],
   "source": [
    "# load and plot dataset\n",
    "import pandas as pd #handles loading and editing data\n",
    "from matplotlib import pyplot #handles plotting data\n",
    "\n",
    "#Mathematical Operations\n",
    "from sklearn.metrics import mean_squared_error #a computation of error through averaging the squared error\n",
    "from sklearn.preprocessing import MinMaxScaler #Handles scaling between a and b\n",
    "\n",
    "#Keras models\n",
    "from keras.models import Sequential #neural network for a sequence of layers\n",
    "from keras.layers import Dense #Standard neural network layer\n",
    "from keras.layers import Activation #Non-linear functions in the neural network to make it non-linear.\n",
    "\n",
    "import numpy as np\n",
    "\n",
    "%matplotlib inline"
   ]
  },
  {
   "cell_type": "markdown",
   "metadata": {},
   "source": [
    "Because some computations are random, we will suppress the randomness to have reproducable results"
   ]
  },
  {
   "cell_type": "code",
   "execution_count": 2,
   "metadata": {
    "collapsed": false
   },
   "outputs": [],
   "source": [
    "np.random.seed(7)"
   ]
  },
  {
   "cell_type": "markdown",
   "metadata": {},
   "source": [
    "### Loading Data"
   ]
  },
  {
   "cell_type": "markdown",
   "metadata": {},
   "source": [
    "1. We will use pandas, imported as pd, to read the csv, sine.csv.\n",
    "\n",
    "2. We will then drop the first two rows because they are not numbers and are irrelevant to the sine function.\n",
    "\n",
    "3. Then we delete the column angle, because angle and sine are the same columns and we only need one column containing the values of sine.\n",
    "\n",
    "4. Then we ensure that the dataframe has float values.\n",
    "\n",
    "5. We then plot the dataframe using the .plot() functionality that pandas DataFrames have.\n",
    "\n",
    "6. We return df.head(5) to show the first 5 rows of what we have plotted"
   ]
  },
  {
   "cell_type": "code",
   "execution_count": 3,
   "metadata": {
    "collapsed": false
   },
   "outputs": [
    {
     "data": {
      "text/html": [
       "<div>\n",
       "<table border=\"1\" class=\"dataframe\">\n",
       "  <thead>\n",
       "    <tr style=\"text-align: right;\">\n",
       "      <th></th>\n",
       "      <th>sine</th>\n",
       "    </tr>\n",
       "  </thead>\n",
       "  <tbody>\n",
       "    <tr>\n",
       "      <th>2</th>\n",
       "      <td>0.000000</td>\n",
       "    </tr>\n",
       "    <tr>\n",
       "      <th>3</th>\n",
       "      <td>0.062791</td>\n",
       "    </tr>\n",
       "    <tr>\n",
       "      <th>4</th>\n",
       "      <td>0.125333</td>\n",
       "    </tr>\n",
       "    <tr>\n",
       "      <th>5</th>\n",
       "      <td>0.187381</td>\n",
       "    </tr>\n",
       "    <tr>\n",
       "      <th>6</th>\n",
       "      <td>0.248690</td>\n",
       "    </tr>\n",
       "  </tbody>\n",
       "</table>\n",
       "</div>"
      ],
      "text/plain": [
       "       sine\n",
       "2  0.000000\n",
       "3  0.062791\n",
       "4  0.125333\n",
       "5  0.187381\n",
       "6  0.248690"
      ]
     },
     "execution_count": 3,
     "metadata": {},
     "output_type": "execute_result"
    },
    {
     "data": {
      "image/png": "[encoded data removed]",
      "text/plain": [
       "<matplotlib.figure.Figure at 0x11d8e6048>"
      ]
     },
     "metadata": {},
     "output_type": "display_data"
    }
   ],
   "source": [
    "df = pd.read_csv('sine.csv')\n",
    "df = df.drop([0, 1])\n",
    "del df['angle']\n",
    "df=df.astype(float)\n",
    "df.plot()\n",
    "df.head(5)"
   ]
  },
  {
   "cell_type": "markdown",
   "metadata": {},
   "source": [
    "### Timeseries to Supervised\n",
    "We have a function <strong>timeseries_to_supervised</strong> to convert time series data into a supervised dataset. What this means is that we make the dataset have a X and a Y, an input and an output. \n",
    "\n",
    "The original dataset is structured in one column containing values t_0, t_1, t_2, t_3, t_4, ... all the way to the end of the dataset.\n",
    "In our case we have 6 inputs and 1 output. We convert it to a supervised learning set so each row is structured as \n",
    "t_0, t_1, t_2, t_3, t_4, t_5, t_6, where t_6 is the output, Y, and t_0, t_1, t_2, t_3, t_4, t_5 are X. The next row is shifted by one timestep, so we have a row containing t_1, t_2, t_3, t_4, t_5, t_6, t_7, where t_7 is the output, Y, and t_1 through t_6 are the inputs. Therefore, we now have a structure where the last 6 timesteps are used to evaluate the next timestep, a supervised learning structure where we have a clear input and output.\n",
    "\n",
    "The function is written so that <strong>lag</strong> can be set, where lag is the number of timesteps in X."
   ]
  },
  {
   "cell_type": "code",
   "execution_count": 4,
   "metadata": {
    "collapsed": false
   },
   "outputs": [
    {
     "data": {
      "text/html": [
       "<div>\n",
       "<table border=\"1\" class=\"dataframe\">\n",
       "  <thead>\n",
       "    <tr style=\"text-align: right;\">\n",
       "      <th></th>\n",
       "      <th>0</th>\n",
       "      <th>0</th>\n",
       "      <th>0</th>\n",
       "      <th>0</th>\n",
       "      <th>0</th>\n",
       "      <th>0</th>\n",
       "      <th>0</th>\n",
       "    </tr>\n",
       "  </thead>\n",
       "  <tbody>\n",
       "    <tr>\n",
       "      <th>6</th>\n",
       "      <td>0.000000</td>\n",
       "      <td>0.062791</td>\n",
       "      <td>0.125333</td>\n",
       "      <td>0.187381</td>\n",
       "      <td>0.248690</td>\n",
       "      <td>0.309017</td>\n",
       "      <td>0.368125</td>\n",
       "    </tr>\n",
       "    <tr>\n",
       "      <th>7</th>\n",
       "      <td>0.062791</td>\n",
       "      <td>0.125333</td>\n",
       "      <td>0.187381</td>\n",
       "      <td>0.248690</td>\n",
       "      <td>0.309017</td>\n",
       "      <td>0.368125</td>\n",
       "      <td>0.425779</td>\n",
       "    </tr>\n",
       "    <tr>\n",
       "      <th>8</th>\n",
       "      <td>0.125333</td>\n",
       "      <td>0.187381</td>\n",
       "      <td>0.248690</td>\n",
       "      <td>0.309017</td>\n",
       "      <td>0.368125</td>\n",
       "      <td>0.425779</td>\n",
       "      <td>0.481754</td>\n",
       "    </tr>\n",
       "    <tr>\n",
       "      <th>9</th>\n",
       "      <td>0.187381</td>\n",
       "      <td>0.248690</td>\n",
       "      <td>0.309017</td>\n",
       "      <td>0.368125</td>\n",
       "      <td>0.425779</td>\n",
       "      <td>0.481754</td>\n",
       "      <td>0.535827</td>\n",
       "    </tr>\n",
       "    <tr>\n",
       "      <th>10</th>\n",
       "      <td>0.248690</td>\n",
       "      <td>0.309017</td>\n",
       "      <td>0.368125</td>\n",
       "      <td>0.425779</td>\n",
       "      <td>0.481754</td>\n",
       "      <td>0.535827</td>\n",
       "      <td>0.587785</td>\n",
       "    </tr>\n",
       "  </tbody>\n",
       "</table>\n",
       "</div>"
      ],
      "text/plain": [
       "           0         0         0         0         0         0         0\n",
       "6   0.000000  0.062791  0.125333  0.187381  0.248690  0.309017  0.368125\n",
       "7   0.062791  0.125333  0.187381  0.248690  0.309017  0.368125  0.425779\n",
       "8   0.125333  0.187381  0.248690  0.309017  0.368125  0.425779  0.481754\n",
       "9   0.187381  0.248690  0.309017  0.368125  0.425779  0.481754  0.535827\n",
       "10  0.248690  0.309017  0.368125  0.425779  0.481754  0.535827  0.587785"
      ]
     },
     "execution_count": 4,
     "metadata": {},
     "output_type": "execute_result"
    }
   ],
   "source": [
    "def timeseries_to_supervised(data, lag=1):\n",
    "\tdf = pd.DataFrame(data)\n",
    "\tcolumns = [df.shift(lag+1 - i) for i in range(1, lag+1)]\n",
    "\tcolumns.append(df)\n",
    "\tdf = pd.concat(columns, axis=1)\n",
    "\tdf.fillna(0, inplace=True)\n",
    "\treturn df\n",
    "\n",
    "input_dim = 6\n",
    "supervised = timeseries_to_supervised(df.values, input_dim)\n",
    "supervised = supervised.drop(range(input_dim))\n",
    "supervised.head()"
   ]
  },
  {
   "cell_type": "markdown",
   "metadata": {},
   "source": [
    "1. We will get the values of this dataset in array form by calling .values on supervised, the DataFrame.\n",
    "2. We create a MinMaxScaler object, giving a range of 0 to 1, the range it will scale the input dataset.\n",
    "3. We fit the scaler to the values from supervised, so now the scaler knows to scale all values relative to the values from supervised. In otherwords, when scaling other data, we must input a set that has the same column size as the original.\n",
    "4. We call scaler.transform to actually scale the data. scaler.transform returns a scaled data set whereas .fit only sets the settings for scaler."
   ]
  },
  {
   "cell_type": "code",
   "execution_count": 5,
   "metadata": {
    "collapsed": false
   },
   "outputs": [],
   "source": [
    "data = supervised.values\n",
    "scaler = MinMaxScaler(feature_range=(0, 1))\n",
    "scaler.fit(data)\n",
    "data = scaler.transform(data)"
   ]
  },
  {
   "cell_type": "markdown",
   "metadata": {},
   "source": [
    "### Splitting into Trained and Tested\n",
    "We will split the data into training and testing. First we calculate an integer for the index we will split at, split_num. Then we separate data into train and test. Because train and test are numpy arrays, we can further split by columns using python array slicing notation on a different axis. Finally, we will reshape x_train, y_train, x_test, and y_test because out model takes in a 3 dimentional input shape and not a 2 dimentional input shape."
   ]
  },
  {
   "cell_type": "code",
   "execution_count": 6,
   "metadata": {
    "collapsed": false
   },
   "outputs": [],
   "source": [
    "split_test_size = 0.276\n",
    "split_num = round(data.shape[0] * (1 - split_test_size))\n",
    "\n",
    "train = data[:split_num]\n",
    "test = data[split_num:]\n",
    "\n",
    "x_train, y_train = train[:,:-1], train[:, -1:]\n",
    "x_test, y_test = test[:, :-1], test[:, -1:]\n",
    "\n",
    "x_train = x_train.reshape(x_train.shape[0], 1, x_train.shape[1])\n",
    "y_train = y_train.reshape(y_train.shape[0], 1, y_train.shape[1])\n",
    "x_test = x_test.reshape(x_test.shape[0], 1, x_test.shape[1])\n",
    "y_test = y_test.reshape(y_test.shape[0], 1, y_test.shape[1])"
   ]
  },
  {
   "cell_type": "markdown",
   "metadata": {},
   "source": [
    "### Building the Model\n",
    "Our model will have an input dimention, which we set above when we converted our dataset to a supervised problem, as 6. The model is a Sequential, meaning that it's a sequence of layers. After the first layer we apply the tanh function to what the first layer outputs in order to eliminate linearity. We feed that to a 5 node Dense layer and then into a relu function. After that we feed it to a 3 node Dense layer and then an output layer of 1 node because we will be outputing one value, the value at the next timestep.\n",
    "\n",
    "We compile the model using a loss function of mean_squared_error and we use the optimizer algorithm of adam. Optimizers are algorithms for neural networks that will attempt to minimize the loss, which in our case is calculated by mean_squared_error."
   ]
  },
  {
   "cell_type": "code",
   "execution_count": 7,
   "metadata": {
    "collapsed": false
   },
   "outputs": [],
   "source": [
    "model = Sequential()\n",
    "\n",
    "model.add(Dense(input_dim, input_shape=(1, input_dim)))\n",
    "model.add(Activation(\"tanh\"))\n",
    "model.add(Dense(5))\n",
    "model.add(Activation(\"relu\"))\n",
    "model.add(Dense(3))\n",
    "model.add(Dense(1))\n",
    "\n",
    "model.compile(loss='mean_squared_error', optimizer='adam')"
   ]
  },
  {
   "cell_type": "markdown",
   "metadata": {},
   "source": [
    "Finally we fit our values for x and y. We will run this 200 times and shuffle our training values every time. "
   ]
  },
  {
   "cell_type": "code",
   "execution_count": 8,
   "metadata": {
    "collapsed": false,
    "scrolled": true
   },
   "outputs": [
    {
     "name": "stdout",
     "output_type": "stream",
     "text": [
      "Epoch 1/200\n",
      "0s - loss: 0.3878\n",
      "Epoch 2/200\n",
      "0s - loss: 0.3006\n",
      "Epoch 3/200\n",
      "0s - loss: 0.2291\n",
      "Epoch 4/200\n",
      "0s - loss: 0.1506\n",
      "Epoch 5/200\n",
      "0s - loss: 0.0860\n",
      "Epoch 6/200\n",
      "0s - loss: 0.0536\n",
      "Epoch 7/200\n",
      "0s - loss: 0.0427\n",
      "Epoch 8/200\n",
      "0s - loss: 0.0370\n",
      "Epoch 9/200\n",
      "0s - loss: 0.0317\n",
      "Epoch 10/200\n",
      "0s - loss: 0.0266\n",
      "Epoch 11/200\n",
      "0s - loss: 0.0209\n",
      "Epoch 12/200\n",
      "0s - loss: 0.0147\n",
      "Epoch 13/200\n",
      "0s - loss: 0.0097\n",
      "Epoch 14/200\n",
      "0s - loss: 0.0081\n",
      "Epoch 15/200\n",
      "0s - loss: 0.0074\n",
      "Epoch 16/200\n",
      "0s - loss: 0.0069\n",
      "Epoch 17/200\n",
      "0s - loss: 0.0062\n",
      "Epoch 18/200\n",
      "0s - loss: 0.0057\n",
      "Epoch 19/200\n",
      "0s - loss: 0.0052\n",
      "Epoch 20/200\n",
      "0s - loss: 0.0046\n",
      "Epoch 21/200\n",
      "0s - loss: 0.0040\n",
      "Epoch 22/200\n",
      "0s - loss: 0.0032\n",
      "Epoch 23/200\n",
      "0s - loss: 0.0024\n",
      "Epoch 24/200\n",
      "0s - loss: 0.0018\n",
      "Epoch 25/200\n",
      "0s - loss: 0.0014\n",
      "Epoch 26/200\n",
      "0s - loss: 0.0011\n",
      "Epoch 27/200\n",
      "0s - loss: 9.0301e-04\n",
      "Epoch 28/200\n",
      "0s - loss: 7.6762e-04\n",
      "Epoch 29/200\n",
      "0s - loss: 6.7485e-04\n",
      "Epoch 30/200\n",
      "0s - loss: 5.9482e-04\n",
      "Epoch 31/200\n",
      "0s - loss: 5.4041e-04\n",
      "Epoch 32/200\n",
      "0s - loss: 5.0723e-04\n",
      "Epoch 33/200\n",
      "0s - loss: 4.3835e-04\n",
      "Epoch 34/200\n",
      "0s - loss: 3.9353e-04\n",
      "Epoch 35/200\n",
      "0s - loss: 3.6108e-04\n",
      "Epoch 36/200\n",
      "0s - loss: 3.3953e-04\n",
      "Epoch 37/200\n",
      "0s - loss: 2.9132e-04\n",
      "Epoch 38/200\n",
      "0s - loss: 2.7394e-04\n",
      "Epoch 39/200\n",
      "0s - loss: 2.7668e-04\n",
      "Epoch 40/200\n",
      "0s - loss: 2.3734e-04\n",
      "Epoch 41/200\n",
      "0s - loss: 2.2557e-04\n",
      "Epoch 42/200\n",
      "0s - loss: 2.1328e-04\n",
      "Epoch 43/200\n",
      "0s - loss: 2.1399e-04\n",
      "Epoch 44/200\n",
      "0s - loss: 1.9547e-04\n",
      "Epoch 45/200\n",
      "0s - loss: 1.8872e-04\n",
      "Epoch 46/200\n",
      "0s - loss: 1.7714e-04\n",
      "Epoch 47/200\n",
      "0s - loss: 1.6745e-04\n",
      "Epoch 48/200\n",
      "0s - loss: 1.6148e-04\n",
      "Epoch 49/200\n",
      "0s - loss: 1.5919e-04\n",
      "Epoch 50/200\n",
      "0s - loss: 1.5152e-04\n",
      "Epoch 51/200\n",
      "0s - loss: 1.4285e-04\n",
      "Epoch 52/200\n",
      "0s - loss: 1.3559e-04\n",
      "Epoch 53/200\n",
      "0s - loss: 1.3434e-04\n",
      "Epoch 54/200\n",
      "0s - loss: 1.2960e-04\n",
      "Epoch 55/200\n",
      "0s - loss: 1.3621e-04\n",
      "Epoch 56/200\n",
      "0s - loss: 1.2456e-04\n",
      "Epoch 57/200\n",
      "0s - loss: 1.1739e-04\n",
      "Epoch 58/200\n",
      "0s - loss: 1.1093e-04\n",
      "Epoch 59/200\n",
      "0s - loss: 1.2533e-04\n",
      "Epoch 60/200\n",
      "0s - loss: 1.1350e-04\n",
      "Epoch 61/200\n",
      "0s - loss: 1.1355e-04\n",
      "Epoch 62/200\n",
      "0s - loss: 1.0085e-04\n",
      "Epoch 63/200\n",
      "0s - loss: 1.0181e-04\n",
      "Epoch 64/200\n",
      "0s - loss: 9.7959e-05\n",
      "Epoch 65/200\n",
      "0s - loss: 9.6876e-05\n",
      "Epoch 66/200\n",
      "0s - loss: 8.5541e-05\n",
      "Epoch 67/200\n",
      "0s - loss: 8.1143e-05\n",
      "Epoch 68/200\n",
      "0s - loss: 7.9800e-05\n",
      "Epoch 69/200\n",
      "0s - loss: 8.3034e-05\n",
      "Epoch 70/200\n",
      "0s - loss: 7.9370e-05\n",
      "Epoch 71/200\n",
      "0s - loss: 7.2815e-05\n",
      "Epoch 72/200\n",
      "0s - loss: 7.0176e-05\n",
      "Epoch 73/200\n",
      "0s - loss: 6.8801e-05\n",
      "Epoch 74/200\n",
      "0s - loss: 6.6579e-05\n",
      "Epoch 75/200\n",
      "0s - loss: 6.6034e-05\n",
      "Epoch 76/200\n",
      "0s - loss: 6.3948e-05\n",
      "Epoch 77/200\n",
      "0s - loss: 6.5490e-05\n",
      "Epoch 78/200\n",
      "0s - loss: 5.9921e-05\n",
      "Epoch 79/200\n",
      "0s - loss: 5.9246e-05\n",
      "Epoch 80/200\n",
      "0s - loss: 5.7399e-05\n",
      "Epoch 81/200\n",
      "0s - loss: 5.5210e-05\n",
      "Epoch 82/200\n",
      "0s - loss: 5.3369e-05\n",
      "Epoch 83/200\n",
      "0s - loss: 5.2594e-05\n",
      "Epoch 84/200\n",
      "0s - loss: 5.1226e-05\n",
      "Epoch 85/200\n",
      "0s - loss: 5.0892e-05\n",
      "Epoch 86/200\n",
      "0s - loss: 4.7810e-05\n",
      "Epoch 87/200\n",
      "0s - loss: 4.8922e-05\n",
      "Epoch 88/200\n",
      "0s - loss: 5.5382e-05\n",
      "Epoch 89/200\n",
      "0s - loss: 4.5044e-05\n",
      "Epoch 90/200\n",
      "0s - loss: 4.4525e-05\n",
      "Epoch 91/200\n",
      "0s - loss: 4.4676e-05\n",
      "Epoch 92/200\n",
      "0s - loss: 4.1379e-05\n",
      "Epoch 93/200\n",
      "0s - loss: 4.7213e-05\n",
      "Epoch 94/200\n",
      "0s - loss: 4.7750e-05\n",
      "Epoch 95/200\n",
      "0s - loss: 4.5509e-05\n",
      "Epoch 96/200\n",
      "0s - loss: 3.9252e-05\n",
      "Epoch 97/200\n",
      "0s - loss: 3.4602e-05\n",
      "Epoch 98/200\n",
      "0s - loss: 3.3873e-05\n",
      "Epoch 99/200\n",
      "0s - loss: 3.3225e-05\n",
      "Epoch 100/200\n",
      "0s - loss: 3.1994e-05\n",
      "Epoch 101/200\n",
      "0s - loss: 3.3997e-05\n",
      "Epoch 102/200\n",
      "0s - loss: 3.6688e-05\n",
      "Epoch 103/200\n",
      "0s - loss: 3.1488e-05\n",
      "Epoch 104/200\n",
      "0s - loss: 3.0133e-05\n",
      "Epoch 105/200\n",
      "0s - loss: 3.3114e-05\n",
      "Epoch 106/200\n",
      "0s - loss: 2.8808e-05\n",
      "Epoch 107/200\n",
      "0s - loss: 2.7385e-05\n",
      "Epoch 108/200\n",
      "0s - loss: 2.7083e-05\n",
      "Epoch 109/200\n",
      "0s - loss: 2.6574e-05\n",
      "Epoch 110/200\n",
      "0s - loss: 2.7422e-05\n",
      "Epoch 111/200\n",
      "0s - loss: 2.4672e-05\n",
      "Epoch 112/200\n",
      "0s - loss: 2.6718e-05\n",
      "Epoch 113/200\n",
      "0s - loss: 2.5956e-05\n",
      "Epoch 114/200\n",
      "0s - loss: 2.3045e-05\n",
      "Epoch 115/200\n",
      "0s - loss: 2.4205e-05\n",
      "Epoch 116/200\n",
      "0s - loss: 2.3716e-05\n",
      "Epoch 117/200\n",
      "0s - loss: 2.4855e-05\n",
      "Epoch 118/200\n",
      "0s - loss: 2.4209e-05\n",
      "Epoch 119/200\n",
      "0s - loss: 2.0267e-05\n",
      "Epoch 120/200\n",
      "0s - loss: 2.3529e-05\n",
      "Epoch 121/200\n",
      "0s - loss: 2.2625e-05\n",
      "Epoch 122/200\n",
      "0s - loss: 1.8551e-05\n",
      "Epoch 123/200\n",
      "0s - loss: 2.2004e-05\n",
      "Epoch 124/200\n",
      "0s - loss: 2.4299e-05\n",
      "Epoch 125/200\n",
      "0s - loss: 2.0279e-05\n",
      "Epoch 126/200\n",
      "0s - loss: 1.8510e-05\n",
      "Epoch 127/200\n",
      "0s - loss: 1.6109e-05\n",
      "Epoch 128/200\n",
      "0s - loss: 1.5571e-05\n",
      "Epoch 129/200\n",
      "0s - loss: 1.4756e-05\n",
      "Epoch 130/200\n",
      "0s - loss: 1.7718e-05\n",
      "Epoch 131/200\n",
      "0s - loss: 1.3995e-05\n",
      "Epoch 132/200\n",
      "0s - loss: 1.3368e-05\n",
      "Epoch 133/200\n",
      "0s - loss: 1.3688e-05\n",
      "Epoch 134/200\n",
      "0s - loss: 1.5513e-05\n",
      "Epoch 135/200\n",
      "0s - loss: 1.6151e-05\n",
      "Epoch 136/200\n",
      "0s - loss: 1.3158e-05\n",
      "Epoch 137/200\n",
      "0s - loss: 1.1898e-05\n",
      "Epoch 138/200\n",
      "0s - loss: 1.1342e-05\n",
      "Epoch 139/200\n",
      "0s - loss: 1.2388e-05\n",
      "Epoch 140/200\n",
      "0s - loss: 1.1709e-05\n",
      "Epoch 141/200\n",
      "0s - loss: 1.2297e-05\n",
      "Epoch 142/200\n",
      "0s - loss: 1.2870e-05\n",
      "Epoch 143/200\n",
      "0s - loss: 1.4187e-05\n",
      "Epoch 144/200\n",
      "0s - loss: 1.1841e-05\n",
      "Epoch 145/200\n",
      "0s - loss: 1.0265e-05\n",
      "Epoch 146/200\n",
      "0s - loss: 9.7762e-06\n",
      "Epoch 147/200\n",
      "0s - loss: 9.5790e-06\n",
      "Epoch 148/200\n",
      "0s - loss: 9.3189e-06\n",
      "Epoch 149/200\n",
      "0s - loss: 1.1027e-05\n",
      "Epoch 150/200\n",
      "0s - loss: 1.0080e-05\n",
      "Epoch 151/200\n",
      "0s - loss: 9.4813e-06\n",
      "Epoch 152/200\n",
      "0s - loss: 1.0147e-05\n",
      "Epoch 153/200\n",
      "0s - loss: 1.1747e-05\n",
      "Epoch 154/200\n",
      "0s - loss: 8.4745e-06\n",
      "Epoch 155/200\n",
      "0s - loss: 8.5718e-06\n",
      "Epoch 156/200\n",
      "0s - loss: 8.6568e-06\n",
      "Epoch 157/200\n",
      "0s - loss: 9.7682e-06\n",
      "Epoch 158/200\n",
      "0s - loss: 7.8854e-06\n",
      "Epoch 159/200\n",
      "0s - loss: 7.8087e-06\n",
      "Epoch 160/200\n",
      "0s - loss: 7.2679e-06\n",
      "Epoch 161/200\n",
      "0s - loss: 7.6842e-06\n",
      "Epoch 162/200\n",
      "0s - loss: 7.5631e-06\n",
      "Epoch 163/200\n",
      "0s - loss: 8.4877e-06\n",
      "Epoch 164/200\n",
      "0s - loss: 7.3098e-06\n",
      "Epoch 165/200\n",
      "0s - loss: 9.5217e-06\n",
      "Epoch 166/200\n",
      "0s - loss: 7.6320e-06\n",
      "Epoch 167/200\n",
      "0s - loss: 9.3958e-06\n",
      "Epoch 168/200\n",
      "0s - loss: 7.5728e-06\n",
      "Epoch 169/200\n",
      "0s - loss: 7.9897e-06\n",
      "Epoch 170/200\n",
      "0s - loss: 1.1202e-05\n",
      "Epoch 171/200\n",
      "0s - loss: 9.9580e-06\n",
      "Epoch 172/200\n",
      "0s - loss: 9.5171e-06\n",
      "Epoch 173/200\n",
      "0s - loss: 7.7042e-06\n",
      "Epoch 174/200\n",
      "0s - loss: 7.4169e-06\n",
      "Epoch 175/200\n",
      "0s - loss: 9.6192e-06\n",
      "Epoch 176/200\n",
      "0s - loss: 1.0331e-05\n",
      "Epoch 177/200\n",
      "0s - loss: 1.0316e-05\n",
      "Epoch 178/200\n",
      "0s - loss: 7.3968e-06\n",
      "Epoch 179/200\n",
      "0s - loss: 6.9757e-06\n",
      "Epoch 180/200\n",
      "0s - loss: 7.7332e-06\n",
      "Epoch 181/200\n",
      "0s - loss: 6.4714e-06\n",
      "Epoch 182/200\n",
      "0s - loss: 6.6566e-06\n",
      "Epoch 183/200\n",
      "0s - loss: 9.2944e-06\n",
      "Epoch 184/200\n",
      "0s - loss: 1.0499e-05\n",
      "Epoch 185/200\n",
      "0s - loss: 6.1052e-06\n",
      "Epoch 186/200\n",
      "0s - loss: 7.2412e-06\n",
      "Epoch 187/200\n",
      "0s - loss: 6.6015e-06\n",
      "Epoch 188/200\n",
      "0s - loss: 7.3605e-06\n",
      "Epoch 189/200\n",
      "0s - loss: 6.7983e-06\n",
      "Epoch 190/200\n",
      "0s - loss: 7.1102e-06\n",
      "Epoch 191/200\n",
      "0s - loss: 9.4993e-06\n",
      "Epoch 192/200\n",
      "0s - loss: 1.1422e-05\n",
      "Epoch 193/200\n",
      "0s - loss: 6.9533e-06\n",
      "Epoch 194/200\n",
      "0s - loss: 8.3049e-06\n",
      "Epoch 195/200\n",
      "0s - loss: 6.0470e-06\n",
      "Epoch 196/200\n",
      "0s - loss: 5.9696e-06\n",
      "Epoch 197/200\n",
      "0s - loss: 9.0304e-06\n",
      "Epoch 198/200\n",
      "0s - loss: 5.8024e-06\n",
      "Epoch 199/200\n",
      "0s - loss: 5.7259e-06\n",
      "Epoch 200/200\n",
      "0s - loss: 7.6571e-06\n"
     ]
    },
    {
     "data": {
      "text/plain": [
       "<keras.callbacks.History at 0x1205ceac8>"
      ]
     },
     "execution_count": 8,
     "metadata": {},
     "output_type": "execute_result"
    }
   ],
   "source": [
    "model.fit(x_train, y_train, epochs=200, verbose=2, shuffle=True)"
   ]
  },
  {
   "cell_type": "markdown",
   "metadata": {},
   "source": [
    "After 200 rounds we got a very low loss, which is very good. However this is a sin function that has no noise, so in real world applications we expect more loss. "
   ]
  },
  {
   "cell_type": "markdown",
   "metadata": {},
   "source": [
    "### Testing the Model\n",
    "We will now predict the values for sin given our x_test set using model.predict\n",
    "In order to see if our predictions are accurate, we compare it to the real values in y_test. In order to plot it, we first must flatten our dataset, as .plot does not take 3D shapes."
   ]
  },
  {
   "cell_type": "code",
   "execution_count": 9,
   "metadata": {
    "collapsed": false
   },
   "outputs": [],
   "source": [
    "predictions = model.predict(x_test)"
   ]
  },
  {
   "cell_type": "markdown",
   "metadata": {},
   "source": [
    "We set the title of the graph using pyplot and plot pred and real, giving them labels. In order to show the labels we call pyplot.legend() and then show the plot using pyplot.show()."
   ]
  },
  {
   "cell_type": "code",
   "execution_count": 10,
   "metadata": {
    "collapsed": false
   },
   "outputs": [
    {
     "data": {
      "image/png": "[encoded data removed]",
      "text/plain": [
       "<matplotlib.figure.Figure at 0x12083cbe0>"
      ]
     },
     "metadata": {},
     "output_type": "display_data"
    }
   ],
   "source": [
    "pred = predictions.flatten()\n",
    "real = y_test.flatten()\n",
    "pyplot.title('Sin Wave Neural Network')\n",
    "pyplot.plot(pred, 'r-', label='Predicted')\n",
    "pyplot.plot(real, 'b-', label='Correct')\n",
    "pyplot.legend()\n",
    "pyplot.show()"
   ]
  },
  {
   "cell_type": "markdown",
   "metadata": {},
   "source": [
    "### Seeing the Model's Long Prediction's Accuracy"
   ]
  },
  {
   "cell_type": "markdown",
   "metadata": {},
   "source": [
    "Something we need to note is that this is very deceptively accurate depending on your application. We have two uses for time series, the first is prediction the future and the second is detecting anomalies. What the previous evaluation did is use x values to predict the next timestep, t+1 for given the last few timesteps, t, t-1, t-2, etc. \n",
    "\n",
    "In order to detect anomalies this is fine because anomaly detection is about making a prediction for the next few time steps and detecting the difference between what we predicted/expected and what we actually got. \n",
    "\n",
    "However, when we want to predict far into the future, we need to test the accuracy in a different way. We will use t-5, t-4, t-3, t-2, t-1, t to predict t+1 first. With the predicted value, we then use t-4, t-3, t-2, t-1, t, t+1 to predict t+2. However the error in each prediction amplifies because it affects the next prediction. Let's test this.\n"
   ]
  },
  {
   "cell_type": "code",
   "execution_count": 11,
   "metadata": {
    "collapsed": false
   },
   "outputs": [
    {
     "name": "stderr",
     "output_type": "stream",
     "text": [
      "/Users/Home/anaconda/lib/python3.5/site-packages/ipykernel/__main__.py:4: FutureWarning: comparison to `None` will result in an elementwise object comparison in the future.\n"
     ]
    }
   ],
   "source": [
    "predictions = []\n",
    "last_predicted = None\n",
    "for t in x_test:\n",
    "    if last_predicted == None:\n",
    "        last_predicted = t.reshape(1, 1, input_dim)[:,:,1:]\n",
    "        y_pred = model.predict(t.reshape(1, 1, input_dim), batch_size=1)\n",
    "        last_predicted = np.append(last_predicted, y_pred)\n",
    "        predictions.append(y_pred)\n",
    "    else:\n",
    "        y_pred = model.predict(last_predicted.reshape(1, 1, input_dim), batch_size=1)\n",
    "        last_predicted = np.append(last_predicted[1:], y_pred)\n",
    "        predictions.append(y_pred)\n",
    "        \n",
    "predictions = np.array(predictions)"
   ]
  },
  {
   "cell_type": "code",
   "execution_count": 12,
   "metadata": {
    "collapsed": false
   },
   "outputs": [
    {
     "data": {
      "image/png": "[encoded data removed]",
      "text/plain": [
       "<matplotlib.figure.Figure at 0x1209d9390>"
      ]
     },
     "metadata": {},
     "output_type": "display_data"
    }
   ],
   "source": [
    "#Temperature Predictions\n",
    "pred = predictions.flatten()\n",
    "real = y_test.flatten()\n",
    "\n",
    "pyplot.title('Sin Wave Neural Network')\n",
    "pyplot.plot(pred, 'r-', label='Predicted')\n",
    "pyplot.plot(real, 'b-', label='Correct')\n",
    "pyplot.legend()\n",
    "pyplot.show()"
   ]
  },
  {
   "cell_type": "markdown",
   "metadata": {},
   "source": [
    "Thus, we have predicted the next 250 timesteps, but it's far more innacurate.\n",
    "\n",
    "That concludes the basics of neural networks with sin time series."
   ]
  },
  {
   "cell_type": "code",
   "execution_count": null,
   "metadata": {
    "collapsed": true
   },
   "outputs": [],
   "source": []
  }
 ],
 "metadata": {
  "anaconda-cloud": {},
  "kernelspec": {
   "display_name": "Python [Root]",
   "language": "python",
   "name": "Python [Root]"
  },
  "language_info": {
   "codemirror_mode": {
    "name": "ipython",
    "version": 3
   },
   "file_extension": ".py",
   "mimetype": "text/x-python",
   "name": "python",
   "nbconvert_exporter": "python",
   "pygments_lexer": "ipython3",
   "version": "3.5.2"
  }
 },
 "nbformat": 4,
 "nbformat_minor": 0
}
