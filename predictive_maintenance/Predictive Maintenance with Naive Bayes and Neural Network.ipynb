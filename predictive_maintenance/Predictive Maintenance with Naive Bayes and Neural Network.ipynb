{
 "cells": [
  {
   "cell_type": "markdown",
   "metadata": {},
   "source": [
    "# Predictive Maintenance Sample"
   ]
  },
  {
   "cell_type": "markdown",
   "metadata": {},
   "source": [
    "### Import Libraries\n",
    "First we want to import all the libraries that we will be needing. They are grouped by their functionality."
   ]
  },
  {
   "cell_type": "code",
   "execution_count": null,
   "metadata": {
    "collapsed": false
   },
   "outputs": [],
   "source": [
    "# load and plot dataset\n",
    "import pandas as pd #handles loading and editing data\n",
    "from matplotlib import pyplot #handles plotting data\n",
    "\n",
    "#Mathematical Operations\n",
    "from sklearn.metrics import mean_squared_error #a computation of error through averaging the squared error\n",
    "from sklearn.preprocessing import MinMaxScaler #Handles scaling between a and b\n",
    "\n",
    "#Models\n",
    "from sklearn.naive_bayes import GaussianNB #This is the naive bayes model we will use in part 1\n",
    "from keras.models import Sequential #neural network for a sequence of layers\n",
    "from keras.layers import Dense #Standard neural network layer\n",
    "from keras.layers import Activation #Non-linear functions in the neural network to make it non-linear.\n",
    "from keras.layers import Dropout #After a layer it drops a percentage of data to prevent overfitting on the training data.\n",
    "\n",
    "#we will use this to add random error to try to detect anomalies\n",
    "import random\n",
    "\n",
    "#we will use this to split train and test data\n",
    "from sklearn.model_selection import train_test_split\n",
    "\n",
    "import numpy as np\n",
    "\n",
    "%matplotlib inline"
   ]
  },
  {
   "cell_type": "markdown",
   "metadata": {},
   "source": [
    "### Setting Random Seed\n",
    "We set the seed to get reproducible results."
   ]
  },
  {
   "cell_type": "code",
   "execution_count": null,
   "metadata": {
    "collapsed": false
   },
   "outputs": [],
   "source": [
    "np.random.seed(7)\n",
    "from tensorflow import set_random_seed\n",
    "set_random_seed(2)"
   ]
  },
  {
   "cell_type": "markdown",
   "metadata": {},
   "source": [
    "### Loading Data\n",
    "1. We will use pandas, imported as pd, to read the csv, maintenance_data.csv.\n",
    "\n",
    "2. Because our input data has string values, we want to convert these string values into integers so they can be used in the machine learning algorithm. We use the .map function to change \"TeamA\" to 0, \"TeamB\" to 1, and \"TeamC\" to 2.\n",
    "\n",
    "3. We will do the same for provider.\n",
    "\n",
    "4. We return df.head(5) to show the first 5 rows of our dataset after changing to numerical values."
   ]
  },
  {
   "cell_type": "code",
   "execution_count": 2,
   "metadata": {
    "collapsed": false
   },
   "outputs": [
    {
     "data": {
      "text/html": [
       "<div>\n",
       "<table border=\"1\" class=\"dataframe\">\n",
       "  <thead>\n",
       "    <tr style=\"text-align: right;\">\n",
       "      <th></th>\n",
       "      <th>lifetime</th>\n",
       "      <th>broken</th>\n",
       "      <th>pressureInd</th>\n",
       "      <th>moistureInd</th>\n",
       "      <th>temperatureInd</th>\n",
       "      <th>team</th>\n",
       "      <th>provider</th>\n",
       "    </tr>\n",
       "  </thead>\n",
       "  <tbody>\n",
       "    <tr>\n",
       "      <th>0</th>\n",
       "      <td>56</td>\n",
       "      <td>0</td>\n",
       "      <td>92.178854</td>\n",
       "      <td>104.230204</td>\n",
       "      <td>96.517159</td>\n",
       "      <td>0</td>\n",
       "      <td>3</td>\n",
       "    </tr>\n",
       "    <tr>\n",
       "      <th>1</th>\n",
       "      <td>81</td>\n",
       "      <td>1</td>\n",
       "      <td>72.075938</td>\n",
       "      <td>103.065701</td>\n",
       "      <td>87.271062</td>\n",
       "      <td>2</td>\n",
       "      <td>3</td>\n",
       "    </tr>\n",
       "    <tr>\n",
       "      <th>2</th>\n",
       "      <td>60</td>\n",
       "      <td>0</td>\n",
       "      <td>96.272254</td>\n",
       "      <td>77.801376</td>\n",
       "      <td>112.196170</td>\n",
       "      <td>0</td>\n",
       "      <td>0</td>\n",
       "    </tr>\n",
       "    <tr>\n",
       "      <th>3</th>\n",
       "      <td>86</td>\n",
       "      <td>1</td>\n",
       "      <td>94.406461</td>\n",
       "      <td>108.493608</td>\n",
       "      <td>72.025374</td>\n",
       "      <td>2</td>\n",
       "      <td>1</td>\n",
       "    </tr>\n",
       "    <tr>\n",
       "      <th>4</th>\n",
       "      <td>34</td>\n",
       "      <td>0</td>\n",
       "      <td>97.752899</td>\n",
       "      <td>99.413492</td>\n",
       "      <td>103.756271</td>\n",
       "      <td>1</td>\n",
       "      <td>0</td>\n",
       "    </tr>\n",
       "  </tbody>\n",
       "</table>\n",
       "</div>"
      ],
      "text/plain": [
       "   lifetime  broken  pressureInd  moistureInd  temperatureInd  team  provider\n",
       "0        56       0    92.178854   104.230204       96.517159     0         3\n",
       "1        81       1    72.075938   103.065701       87.271062     2         3\n",
       "2        60       0    96.272254    77.801376      112.196170     0         0\n",
       "3        86       1    94.406461   108.493608       72.025374     2         1\n",
       "4        34       0    97.752899    99.413492      103.756271     1         0"
      ]
     },
     "execution_count": 2,
     "metadata": {},
     "output_type": "execute_result"
    }
   ],
   "source": [
    "df = pd.read_csv('maintenance_data.csv')\n",
    "# changing team values to numerical values\n",
    "team_map = {\"TeamA\" : 0, \"TeamB\" : 1, \"TeamC\" : 2}\n",
    "df['team'] = df['team'].map(team_map)\n",
    "\n",
    "# changing provider values to numerical values\n",
    "provider_map = {\"Provider1\" : 0, \"Provider2\" : 1, \"Provider3\" : 2, \"Provider4\" : 3}\n",
    "df['provider'] = df['provider'].map(provider_map)\n",
    "\n",
    "df.head(5)"
   ]
  },
  {
   "cell_type": "markdown",
   "metadata": {},
   "source": [
    "### Editing Table\n",
    "1. We do not want any null values in our table, so we check if there are any.\n",
    "2. Then we plot the correlation between our external factors. Red means high correlation while blue means low correlation. We want low correlation because if we have multiple columns with high correlation, it's repetitive in the machine learning model. "
   ]
  },
  {
   "cell_type": "code",
   "execution_count": 3,
   "metadata": {
    "collapsed": false
   },
   "outputs": [
    {
     "data": {
      "text/plain": [
       "False"
      ]
     },
     "execution_count": 3,
     "metadata": {},
     "output_type": "execute_result"
    }
   ],
   "source": [
    "df.isnull().values.any()"
   ]
  },
  {
   "cell_type": "code",
   "execution_count": 4,
   "metadata": {
    "collapsed": false
   },
   "outputs": [
    {
     "data": {
      "image/png": "[encoded data removed]",
      "text/plain": [
       "<matplotlib.figure.Figure at 0x11da1ceb8>"
      ]
     },
     "metadata": {},
     "output_type": "display_data"
    }
   ],
   "source": [
    "def plot_corr(df, size=7):\n",
    "    corr = df.corr() \n",
    "    fig, ax = pyplot.subplots(figsize=(size, size))\n",
    "    ax.matshow(corr)\n",
    "    pyplot.xticks(range(len(corr.columns)), corr.columns)\n",
    "    pyplot.yticks(range(len(corr.columns)), corr.columns)\n",
    "    \n",
    "plot_corr(df)"
   ]
  },
  {
   "cell_type": "markdown",
   "metadata": {},
   "source": [
    "### Deleting Columns\n",
    "We can delete columns by using del command. del df('lifetime'). However, none of the columns are very repetitive, so we will not delete any columns."
   ]
  },
  {
   "cell_type": "markdown",
   "metadata": {},
   "source": [
    "## Naive Bayes Model"
   ]
  },
  {
   "cell_type": "markdown",
   "metadata": {},
   "source": [
    "### Splitting the data\n",
    "We will split the data into training and testing here. Because we are preparing the data for the Naive Bayes Model, we are not working with a time series. Instead, we are using X to predict Y, where X is the external factors or features and Y is what we are predicting, whether it is broken or not. The external factors include lifetime, pressureInd, moistureInd, temperatureInd, team, and provider. \n",
    "\n",
    "We are going to use train_test_split to handle the splitting for us. We set the test_size to 0.3 and make the random_state 42 to have reproducable results."
   ]
  },
  {
   "cell_type": "code",
   "execution_count": 5,
   "metadata": {
    "collapsed": false
   },
   "outputs": [],
   "source": [
    "feature_col_names = ['lifetime','pressureInd','moistureInd','temperatureInd','team','provider']\n",
    "predicted_class_names = ['broken']\n",
    "\n",
    "x = df[feature_col_names].values\n",
    "y = df[predicted_class_names].values\n",
    "split_test_size = 0.3\n",
    "\n",
    "x_train, x_test, y_train, y_test = train_test_split(x, y, test_size=split_test_size, random_state=42)"
   ]
  },
  {
   "cell_type": "code",
   "execution_count": 6,
   "metadata": {
    "collapsed": false
   },
   "outputs": [
    {
     "name": "stdout",
     "output_type": "stream",
     "text": [
      "0.7\n",
      "0.3\n"
     ]
    }
   ],
   "source": [
    "print(len(x_train)/len(df.index))\n",
    "print(len(x_test)/len(df.index))"
   ]
  },
  {
   "cell_type": "markdown",
   "metadata": {},
   "source": [
    "### Post-split Data Preparation\n",
    "\n",
    "#### Hidden Missing Values\n",
    "Usually we will remove rows/cols or replace with mean, median, or use expert knowledge to derive a value to replace missing values However, we don't have any missing values."
   ]
  },
  {
   "cell_type": "code",
   "execution_count": 7,
   "metadata": {
    "collapsed": false
   },
   "outputs": [
    {
     "name": "stdout",
     "output_type": "stream",
     "text": [
      "# rows in dataframe 1000\n",
      "# rows in pressureInd 0\n",
      "# rows in moistureInd 0\n",
      "# rows in temperatureInd 0\n"
     ]
    }
   ],
   "source": [
    "print(\"# rows in dataframe {0}\".format(len(df)))\n",
    "print(\"# rows in pressureInd {0}\".format(len(df.loc[df['pressureInd'] == 0])))\n",
    "print(\"# rows in moistureInd {0}\".format(len(df.loc[df['moistureInd'] == 0])))\n",
    "print(\"# rows in temperatureInd {0}\".format(len(df.loc[df['temperatureInd'] == 0])))"
   ]
  },
  {
   "cell_type": "markdown",
   "metadata": {},
   "source": [
    "### Building the Model\n",
    "This method is a simple algorithm designed for classification. We import it, instantiate it, and then fit it with the x_train and y_train data. Ravel, like flatten, changes the array to a 1d array. [[0], [1]] => [0, 1]"
   ]
  },
  {
   "cell_type": "code",
   "execution_count": 8,
   "metadata": {
    "collapsed": false
   },
   "outputs": [
    {
     "data": {
      "text/plain": [
       "GaussianNB(priors=None)"
      ]
     },
     "execution_count": 8,
     "metadata": {},
     "output_type": "execute_result"
    }
   ],
   "source": [
    "nb_model = GaussianNB()\n",
    "nb_model.fit(x_train, y_train.ravel())"
   ]
  },
  {
   "cell_type": "markdown",
   "metadata": {},
   "source": [
    "### Performance of Naive Bayes Training Method\n",
    "We evaluate the accuracy of the predictions by calling predict with the model then calculating the accuracy score between y_test and nb_predict_train. We see that we are 83.6% correct."
   ]
  },
  {
   "cell_type": "code",
   "execution_count": 9,
   "metadata": {
    "collapsed": false
   },
   "outputs": [
    {
     "name": "stdout",
     "output_type": "stream",
     "text": [
      "Accuracy: 0.8367\n"
     ]
    }
   ],
   "source": [
    "nb_predict_train = nb_model.predict(x_test)\n",
    "\n",
    "from sklearn import metrics\n",
    "\n",
    "print(\"Accuracy: {0:.4f}\".format(metrics.accuracy_score(y_test, nb_predict_train)))"
   ]
  },
  {
   "cell_type": "markdown",
   "metadata": {
    "collapsed": true
   },
   "source": [
    "## Neural Network Model"
   ]
  },
  {
   "cell_type": "markdown",
   "metadata": {},
   "source": [
    "### Editing the Data\n",
    "We want to edit the data such that there's a column that's time until broken. However, we don't have this data so we will guess that provider3 breaks at 60, provider 1 at 73, provider 2 at 85, and provider 4 at 88. We will add some error so they don't all break at those exact values. "
   ]
  },
  {
   "cell_type": "code",
   "execution_count": 10,
   "metadata": {
    "collapsed": false
   },
   "outputs": [
    {
     "data": {
      "text/html": [
       "<div>\n",
       "<table border=\"1\" class=\"dataframe\">\n",
       "  <thead>\n",
       "    <tr style=\"text-align: right;\">\n",
       "      <th></th>\n",
       "      <th>lifetime</th>\n",
       "      <th>broken</th>\n",
       "      <th>pressureInd</th>\n",
       "      <th>moistureInd</th>\n",
       "      <th>temperatureInd</th>\n",
       "      <th>team</th>\n",
       "      <th>provider</th>\n",
       "    </tr>\n",
       "  </thead>\n",
       "  <tbody>\n",
       "    <tr>\n",
       "      <th>0</th>\n",
       "      <td>56</td>\n",
       "      <td>0</td>\n",
       "      <td>92.178854</td>\n",
       "      <td>104.230204</td>\n",
       "      <td>96.517159</td>\n",
       "      <td>0</td>\n",
       "      <td>3</td>\n",
       "    </tr>\n",
       "    <tr>\n",
       "      <th>1</th>\n",
       "      <td>81</td>\n",
       "      <td>1</td>\n",
       "      <td>72.075938</td>\n",
       "      <td>103.065701</td>\n",
       "      <td>87.271062</td>\n",
       "      <td>2</td>\n",
       "      <td>3</td>\n",
       "    </tr>\n",
       "    <tr>\n",
       "      <th>2</th>\n",
       "      <td>60</td>\n",
       "      <td>0</td>\n",
       "      <td>96.272254</td>\n",
       "      <td>77.801376</td>\n",
       "      <td>112.196170</td>\n",
       "      <td>0</td>\n",
       "      <td>0</td>\n",
       "    </tr>\n",
       "    <tr>\n",
       "      <th>3</th>\n",
       "      <td>86</td>\n",
       "      <td>1</td>\n",
       "      <td>94.406461</td>\n",
       "      <td>108.493608</td>\n",
       "      <td>72.025374</td>\n",
       "      <td>2</td>\n",
       "      <td>1</td>\n",
       "    </tr>\n",
       "    <tr>\n",
       "      <th>4</th>\n",
       "      <td>34</td>\n",
       "      <td>0</td>\n",
       "      <td>97.752899</td>\n",
       "      <td>99.413492</td>\n",
       "      <td>103.756271</td>\n",
       "      <td>1</td>\n",
       "      <td>0</td>\n",
       "    </tr>\n",
       "  </tbody>\n",
       "</table>\n",
       "</div>"
      ],
      "text/plain": [
       "   lifetime  broken  pressureInd  moistureInd  temperatureInd  team  provider\n",
       "0        56       0    92.178854   104.230204       96.517159     0         3\n",
       "1        81       1    72.075938   103.065701       87.271062     2         3\n",
       "2        60       0    96.272254    77.801376      112.196170     0         0\n",
       "3        86       1    94.406461   108.493608       72.025374     2         1\n",
       "4        34       0    97.752899    99.413492      103.756271     1         0"
      ]
     },
     "execution_count": 10,
     "metadata": {},
     "output_type": "execute_result"
    }
   ],
   "source": [
    "df.head(5)"
   ]
  },
  {
   "cell_type": "code",
   "execution_count": 11,
   "metadata": {
    "collapsed": false
   },
   "outputs": [
    {
     "data": {
      "text/html": [
       "<div>\n",
       "<table border=\"1\" class=\"dataframe\">\n",
       "  <thead>\n",
       "    <tr style=\"text-align: right;\">\n",
       "      <th></th>\n",
       "      <th>lifetime</th>\n",
       "      <th>broken</th>\n",
       "      <th>pressureInd</th>\n",
       "      <th>moistureInd</th>\n",
       "      <th>temperatureInd</th>\n",
       "      <th>team</th>\n",
       "      <th>provider</th>\n",
       "      <th>timeTilBroken</th>\n",
       "    </tr>\n",
       "  </thead>\n",
       "  <tbody>\n",
       "    <tr>\n",
       "      <th>0</th>\n",
       "      <td>56</td>\n",
       "      <td>0</td>\n",
       "      <td>92.178854</td>\n",
       "      <td>104.230204</td>\n",
       "      <td>96.517159</td>\n",
       "      <td>0</td>\n",
       "      <td>3</td>\n",
       "      <td>-44.218386</td>\n",
       "    </tr>\n",
       "    <tr>\n",
       "      <th>1</th>\n",
       "      <td>81</td>\n",
       "      <td>1</td>\n",
       "      <td>72.075938</td>\n",
       "      <td>103.065701</td>\n",
       "      <td>87.271062</td>\n",
       "      <td>2</td>\n",
       "      <td>3</td>\n",
       "      <td>-19.218386</td>\n",
       "    </tr>\n",
       "    <tr>\n",
       "      <th>2</th>\n",
       "      <td>60</td>\n",
       "      <td>0</td>\n",
       "      <td>96.272254</td>\n",
       "      <td>77.801376</td>\n",
       "      <td>112.196170</td>\n",
       "      <td>0</td>\n",
       "      <td>0</td>\n",
       "      <td>67.423357</td>\n",
       "    </tr>\n",
       "    <tr>\n",
       "      <th>3</th>\n",
       "      <td>86</td>\n",
       "      <td>1</td>\n",
       "      <td>94.406461</td>\n",
       "      <td>108.493608</td>\n",
       "      <td>72.025374</td>\n",
       "      <td>2</td>\n",
       "      <td>1</td>\n",
       "      <td>-8.454928</td>\n",
       "    </tr>\n",
       "    <tr>\n",
       "      <th>4</th>\n",
       "      <td>34</td>\n",
       "      <td>0</td>\n",
       "      <td>97.752899</td>\n",
       "      <td>99.413492</td>\n",
       "      <td>103.756271</td>\n",
       "      <td>1</td>\n",
       "      <td>0</td>\n",
       "      <td>41.423357</td>\n",
       "    </tr>\n",
       "  </tbody>\n",
       "</table>\n",
       "</div>"
      ],
      "text/plain": [
       "   lifetime  broken  pressureInd  moistureInd  temperatureInd  team  provider  \\\n",
       "0        56       0    92.178854   104.230204       96.517159     0         3   \n",
       "1        81       1    72.075938   103.065701       87.271062     2         3   \n",
       "2        60       0    96.272254    77.801376      112.196170     0         0   \n",
       "3        86       1    94.406461   108.493608       72.025374     2         1   \n",
       "4        34       0    97.752899    99.413492      103.756271     1         0   \n",
       "\n",
       "   timeTilBroken  \n",
       "0     -44.218386  \n",
       "1     -19.218386  \n",
       "2      67.423357  \n",
       "3      -8.454928  \n",
       "4      41.423357  "
      ]
     },
     "execution_count": 11,
     "metadata": {},
     "output_type": "execute_result"
    }
   ],
   "source": [
    "#What is the lifetime that each team breaks on?\n",
    "#provider 3: 60\n",
    "#provider 1: 73\n",
    "#provider 2: 85\n",
    "#provider 4: 88\n",
    "df.loc[df['provider'] == 0, 'timeTilBroken'] = df['lifetime'] - 73 + random.uniform(-100, 100)\n",
    "df.loc[df['provider'] == 1, 'timeTilBroken'] = df['lifetime'] - 65 + random.uniform(-50, 50)\n",
    "df.loc[df['provider'] == 2, 'timeTilBroken'] = df['lifetime'] - 60 + random.uniform(-70, 70)\n",
    "df.loc[df['provider'] == 3, 'timeTilBroken'] = df['lifetime'] - 88 + random.uniform(-20, 20)\n",
    "df.head(5)"
   ]
  },
  {
   "cell_type": "markdown",
   "metadata": {},
   "source": [
    "This time we will set the column we want to predict as timeTilBroken and we use all other columns for our external factors."
   ]
  },
  {
   "cell_type": "code",
   "execution_count": 12,
   "metadata": {
    "collapsed": false
   },
   "outputs": [],
   "source": [
    "feature_col_names = ['lifetime','pressureInd','moistureInd','temperatureInd','team','provider']\n",
    "predicted_class_names = ['timeTilBroken']\n",
    "\n",
    "x = df[feature_col_names].values\n",
    "y = df[predicted_class_names].values"
   ]
  },
  {
   "cell_type": "markdown",
   "metadata": {},
   "source": [
    "### Scaling the Data"
   ]
  },
  {
   "cell_type": "markdown",
   "metadata": {},
   "source": [
    "We need to scale the data in order to make computation faster. We create x_scaler and y_scaler, which are MinMaxScaler objects set to scale between -1 and 1. We fit data to the scalers so the scaler knows how to scale a given data set. Then we finally scale x and y using the scaler's transform function. We need both x_scaler and y_scaler because a scaler can only scale a dataset containing a certain number of columns. Later when we scale back the timeTilBroken, we only have one column so using a scaler that takes all the columns will not work."
   ]
  },
  {
   "cell_type": "code",
   "execution_count": 13,
   "metadata": {
    "collapsed": false
   },
   "outputs": [],
   "source": [
    "# scale x, y [-1, 1]\n",
    "def scale(x, y):\n",
    "    # fit scaler\n",
    "    x_scaler = MinMaxScaler(feature_range=(-1, 1))\n",
    "    x_scaler = x_scaler.fit(x)\n",
    "    x_scaled = x_scaler.transform(x)\n",
    "    \n",
    "    # fit scaler\n",
    "    y_scaler = MinMaxScaler(feature_range=(-1, 1))\n",
    "    y_scaler = y_scaler.fit(y)\n",
    "    y_scaled = y_scaler.transform(y)\n",
    "    return x_scaler, y_scaler, x_scaled, y_scaled"
   ]
  },
  {
   "cell_type": "markdown",
   "metadata": {},
   "source": [
    "Now we scale the data and split using tain_test_split."
   ]
  },
  {
   "cell_type": "code",
   "execution_count": 14,
   "metadata": {
    "collapsed": false
   },
   "outputs": [],
   "source": [
    "x_scaler, y_scaler, x_scaled, y_scaled = scale(x, y)\n",
    "split_test_size = 0.3\n",
    "x_train, x_test, y_train, y_test = train_test_split(x_scaled, y_scaled, test_size=split_test_size, random_state=42)"
   ]
  },
  {
   "cell_type": "markdown",
   "metadata": {},
   "source": [
    "We will build a model for the neural network using a sequential model, which means that our neural network is a sequence of layers. Dense is the standard layer, and we have 3 layers, the first with 12 nodes, the second with 8, and the third with 1. Each layer has an non-linear activation function to make its output non-linear. We add a dropout to prevent overfitting of the training data."
   ]
  },
  {
   "cell_type": "code",
   "execution_count": 15,
   "metadata": {
    "collapsed": true
   },
   "outputs": [],
   "source": [
    "model = Sequential()\n",
    "model.add(Dense(12, input_dim=6, activation='relu'))\n",
    "model.add(Dense(8, activation='relu'))\n",
    "model.add(Dropout(0.2))\n",
    "model.add(Dense(1))"
   ]
  },
  {
   "cell_type": "code",
   "execution_count": 16,
   "metadata": {
    "collapsed": false
   },
   "outputs": [],
   "source": [
    "model.compile(loss='mean_squared_error', optimizer='adam', metrics=['accuracy'])"
   ]
  },
  {
   "cell_type": "markdown",
   "metadata": {},
   "source": [
    "The model was trained on x_train and y_train over 200 epochs. "
   ]
  },
  {
   "cell_type": "code",
   "execution_count": 17,
   "metadata": {
    "collapsed": false
   },
   "outputs": [
    {
     "name": "stdout",
     "output_type": "stream",
     "text": [
      "Epoch 1/200\n",
      "700/700 [==============================] - 0s - loss: 0.3561 - acc: 0.0000e+00     \n",
      "Epoch 2/200\n",
      "700/700 [==============================] - 0s - loss: 0.2912 - acc: 0.0014         \n",
      "Epoch 3/200\n",
      "700/700 [==============================] - 0s - loss: 0.2510 - acc: 0.0057     \n",
      "Epoch 4/200\n",
      "700/700 [==============================] - 0s - loss: 0.2106 - acc: 0.0043     \n",
      "Epoch 5/200\n",
      "700/700 [==============================] - 0s - loss: 0.1849 - acc: 0.0100     \n",
      "Epoch 6/200\n",
      "700/700 [==============================] - 0s - loss: 0.1693 - acc: 0.0157     \n",
      "Epoch 7/200\n",
      "700/700 [==============================] - 0s - loss: 0.1574 - acc: 0.0214     \n",
      "Epoch 8/200\n",
      "700/700 [==============================] - 0s - loss: 0.1342 - acc: 0.0357     \n",
      "Epoch 9/200\n",
      "700/700 [==============================] - 0s - loss: 0.1249 - acc: 0.0457     \n",
      "Epoch 10/200\n",
      "700/700 [==============================] - 0s - loss: 0.1163 - acc: 0.0486     \n",
      "Epoch 11/200\n",
      "700/700 [==============================] - 0s - loss: 0.1075 - acc: 0.0514     \n",
      "Epoch 12/200\n",
      "700/700 [==============================] - 0s - loss: 0.1048 - acc: 0.0543     \n",
      "Epoch 13/200\n",
      "700/700 [==============================] - 0s - loss: 0.0980 - acc: 0.0486     \n",
      "Epoch 14/200\n",
      "700/700 [==============================] - 0s - loss: 0.0894 - acc: 0.0586     \n",
      "Epoch 15/200\n",
      "700/700 [==============================] - 0s - loss: 0.0788 - acc: 0.0557     \n",
      "Epoch 16/200\n",
      "700/700 [==============================] - 0s - loss: 0.0782 - acc: 0.0586     \n",
      "Epoch 17/200\n",
      "700/700 [==============================] - 0s - loss: 0.0801 - acc: 0.0514     \n",
      "Epoch 18/200\n",
      "700/700 [==============================] - 0s - loss: 0.0642 - acc: 0.0643     \n",
      "Epoch 19/200\n",
      "700/700 [==============================] - 0s - loss: 0.0711 - acc: 0.0500     \n",
      "Epoch 20/200\n",
      "700/700 [==============================] - 0s - loss: 0.0580 - acc: 0.0586     \n",
      "Epoch 21/200\n",
      "700/700 [==============================] - 0s - loss: 0.0613 - acc: 0.0543     \n",
      "Epoch 22/200\n",
      "700/700 [==============================] - 0s - loss: 0.0516 - acc: 0.0614     \n",
      "Epoch 23/200\n",
      "700/700 [==============================] - 0s - loss: 0.0535 - acc: 0.0529     \n",
      "Epoch 24/200\n",
      "700/700 [==============================] - 0s - loss: 0.0495 - acc: 0.0500     \n",
      "Epoch 25/200\n",
      "700/700 [==============================] - 0s - loss: 0.0464 - acc: 0.0529     \n",
      "Epoch 26/200\n",
      "700/700 [==============================] - 0s - loss: 0.0427 - acc: 0.0557     \n",
      "Epoch 27/200\n",
      "700/700 [==============================] - 0s - loss: 0.0448 - acc: 0.0571     \n",
      "Epoch 28/200\n",
      "700/700 [==============================] - 0s - loss: 0.0440 - acc: 0.0586     \n",
      "Epoch 29/200\n",
      "700/700 [==============================] - 0s - loss: 0.0373 - acc: 0.0614     \n",
      "Epoch 30/200\n",
      "700/700 [==============================] - 0s - loss: 0.0349 - acc: 0.0614     \n",
      "Epoch 31/200\n",
      "700/700 [==============================] - 0s - loss: 0.0424 - acc: 0.0571     \n",
      "Epoch 32/200\n",
      "700/700 [==============================] - 0s - loss: 0.0374 - acc: 0.0600     \n",
      "Epoch 33/200\n",
      "700/700 [==============================] - 0s - loss: 0.0350 - acc: 0.0614     \n",
      "Epoch 34/200\n",
      "700/700 [==============================] - 0s - loss: 0.0343 - acc: 0.0643     \n",
      "Epoch 35/200\n",
      "700/700 [==============================] - 0s - loss: 0.0390 - acc: 0.0614     \n",
      "Epoch 36/200\n",
      "700/700 [==============================] - 0s - loss: 0.0364 - acc: 0.0600     \n",
      "Epoch 37/200\n",
      "700/700 [==============================] - 0s - loss: 0.0332 - acc: 0.0643     \n",
      "Epoch 38/200\n",
      "700/700 [==============================] - 0s - loss: 0.0345 - acc: 0.0600     \n",
      "Epoch 39/200\n",
      "700/700 [==============================] - 0s - loss: 0.0292 - acc: 0.0671     \n",
      "Epoch 40/200\n",
      "700/700 [==============================] - 0s - loss: 0.0323 - acc: 0.0629     \n",
      "Epoch 41/200\n",
      "700/700 [==============================] - 0s - loss: 0.0309 - acc: 0.0614     \n",
      "Epoch 42/200\n",
      "700/700 [==============================] - 0s - loss: 0.0358 - acc: 0.0571     \n",
      "Epoch 43/200\n",
      "700/700 [==============================] - 0s - loss: 0.0293 - acc: 0.0643     \n",
      "Epoch 44/200\n",
      "700/700 [==============================] - 0s - loss: 0.0291 - acc: 0.0643     \n",
      "Epoch 45/200\n",
      "700/700 [==============================] - 0s - loss: 0.0251 - acc: 0.0686     \n",
      "Epoch 46/200\n",
      "700/700 [==============================] - 0s - loss: 0.0330 - acc: 0.0614     \n",
      "Epoch 47/200\n",
      "700/700 [==============================] - 0s - loss: 0.0294 - acc: 0.0614     \n",
      "Epoch 48/200\n",
      "700/700 [==============================] - 0s - loss: 0.0320 - acc: 0.0643     \n",
      "Epoch 49/200\n",
      "700/700 [==============================] - 0s - loss: 0.0263 - acc: 0.0629     \n",
      "Epoch 50/200\n",
      "700/700 [==============================] - 0s - loss: 0.0283 - acc: 0.0643     \n",
      "Epoch 51/200\n",
      "700/700 [==============================] - 0s - loss: 0.0249 - acc: 0.0629     \n",
      "Epoch 52/200\n",
      "700/700 [==============================] - 0s - loss: 0.0304 - acc: 0.0629     \n",
      "Epoch 53/200\n",
      "700/700 [==============================] - 0s - loss: 0.0335 - acc: 0.0571     \n",
      "Epoch 54/200\n",
      "700/700 [==============================] - 0s - loss: 0.0278 - acc: 0.0629     \n",
      "Epoch 55/200\n",
      "700/700 [==============================] - 0s - loss: 0.0262 - acc: 0.0643     \n",
      "Epoch 56/200\n",
      "700/700 [==============================] - 0s - loss: 0.0315 - acc: 0.0571     \n",
      "Epoch 57/200\n",
      "700/700 [==============================] - 0s - loss: 0.0246 - acc: 0.0614     \n",
      "Epoch 58/200\n",
      "700/700 [==============================] - 0s - loss: 0.0301 - acc: 0.0629     \n",
      "Epoch 59/200\n",
      "700/700 [==============================] - 0s - loss: 0.0310 - acc: 0.0600     \n",
      "Epoch 60/200\n",
      "700/700 [==============================] - 0s - loss: 0.0338 - acc: 0.0571     \n",
      "Epoch 61/200\n",
      "700/700 [==============================] - 0s - loss: 0.0261 - acc: 0.0614     \n",
      "Epoch 62/200\n",
      "700/700 [==============================] - 0s - loss: 0.0265 - acc: 0.0614     \n",
      "Epoch 63/200\n",
      "700/700 [==============================] - 0s - loss: 0.0298 - acc: 0.0629     \n",
      "Epoch 64/200\n",
      "700/700 [==============================] - 0s - loss: 0.0250 - acc: 0.0629     \n",
      "Epoch 65/200\n",
      "700/700 [==============================] - 0s - loss: 0.0316 - acc: 0.0543     \n",
      "Epoch 66/200\n",
      "700/700 [==============================] - 0s - loss: 0.0256 - acc: 0.0671     \n",
      "Epoch 67/200\n",
      "700/700 [==============================] - 0s - loss: 0.0271 - acc: 0.0629     \n",
      "Epoch 68/200\n",
      "700/700 [==============================] - 0s - loss: 0.0284 - acc: 0.0600     \n",
      "Epoch 69/200\n",
      "700/700 [==============================] - 0s - loss: 0.0271 - acc: 0.0629     \n",
      "Epoch 70/200\n",
      "700/700 [==============================] - 0s - loss: 0.0212 - acc: 0.0671     \n",
      "Epoch 71/200\n",
      "700/700 [==============================] - 0s - loss: 0.0327 - acc: 0.0529     \n",
      "Epoch 72/200\n",
      "700/700 [==============================] - 0s - loss: 0.0279 - acc: 0.0571     \n",
      "Epoch 73/200\n",
      "700/700 [==============================] - 0s - loss: 0.0235 - acc: 0.0614     \n",
      "Epoch 74/200\n",
      "700/700 [==============================] - 0s - loss: 0.0248 - acc: 0.0629     \n",
      "Epoch 75/200\n",
      "700/700 [==============================] - 0s - loss: 0.0218 - acc: 0.0657     \n",
      "Epoch 76/200\n",
      "700/700 [==============================] - 0s - loss: 0.0305 - acc: 0.0586     \n",
      "Epoch 77/200\n",
      "700/700 [==============================] - 0s - loss: 0.0219 - acc: 0.0657     \n",
      "Epoch 78/200\n",
      "700/700 [==============================] - 0s - loss: 0.0261 - acc: 0.0629     \n",
      "Epoch 79/200\n",
      "700/700 [==============================] - 0s - loss: 0.0286 - acc: 0.0600     \n",
      "Epoch 80/200\n",
      "700/700 [==============================] - 0s - loss: 0.0263 - acc: 0.0643     \n",
      "Epoch 81/200\n",
      "700/700 [==============================] - 0s - loss: 0.0204 - acc: 0.0671     \n",
      "Epoch 82/200\n",
      "700/700 [==============================] - 0s - loss: 0.0287 - acc: 0.0629     \n",
      "Epoch 83/200\n",
      "700/700 [==============================] - 0s - loss: 0.0244 - acc: 0.0657     \n",
      "Epoch 84/200\n",
      "700/700 [==============================] - 0s - loss: 0.0246 - acc: 0.0614     \n",
      "Epoch 85/200\n",
      "700/700 [==============================] - 0s - loss: 0.0242 - acc: 0.0643     \n",
      "Epoch 86/200\n",
      "700/700 [==============================] - 0s - loss: 0.0247 - acc: 0.0600     \n",
      "Epoch 87/200\n",
      "700/700 [==============================] - 0s - loss: 0.0286 - acc: 0.0586     \n",
      "Epoch 88/200\n",
      "700/700 [==============================] - 0s - loss: 0.0234 - acc: 0.0629     \n",
      "Epoch 89/200\n",
      "700/700 [==============================] - 0s - loss: 0.0273 - acc: 0.0557     \n",
      "Epoch 90/200\n",
      "700/700 [==============================] - 0s - loss: 0.0287 - acc: 0.0571     \n",
      "Epoch 91/200\n",
      "700/700 [==============================] - 0s - loss: 0.0257 - acc: 0.0614         \n",
      "Epoch 92/200\n",
      "700/700 [==============================] - 0s - loss: 0.0258 - acc: 0.0571     \n",
      "Epoch 93/200\n",
      "700/700 [==============================] - 0s - loss: 0.0247 - acc: 0.0614     \n",
      "Epoch 94/200\n",
      "700/700 [==============================] - 0s - loss: 0.0275 - acc: 0.0586     \n",
      "Epoch 95/200\n",
      "700/700 [==============================] - 0s - loss: 0.0272 - acc: 0.0586     \n",
      "Epoch 96/200\n",
      "700/700 [==============================] - 0s - loss: 0.0262 - acc: 0.0629         \n",
      "Epoch 97/200\n",
      "700/700 [==============================] - 0s - loss: 0.0305 - acc: 0.0529     \n",
      "Epoch 98/200\n",
      "700/700 [==============================] - 0s - loss: 0.0280 - acc: 0.0614     \n",
      "Epoch 99/200\n",
      "700/700 [==============================] - 0s - loss: 0.0226 - acc: 0.0657     \n",
      "Epoch 100/200\n",
      "700/700 [==============================] - 0s - loss: 0.0245 - acc: 0.0614     \n",
      "Epoch 101/200\n",
      "700/700 [==============================] - 0s - loss: 0.0252 - acc: 0.0614     \n",
      "Epoch 102/200\n",
      "700/700 [==============================] - 0s - loss: 0.0188 - acc: 0.0614     \n",
      "Epoch 103/200\n",
      "700/700 [==============================] - 0s - loss: 0.0271 - acc: 0.0529     \n",
      "Epoch 104/200\n",
      "700/700 [==============================] - 0s - loss: 0.0257 - acc: 0.0629     \n",
      "Epoch 105/200\n",
      "700/700 [==============================] - 0s - loss: 0.0331 - acc: 0.0571     \n",
      "Epoch 106/200\n",
      "700/700 [==============================] - 0s - loss: 0.0233 - acc: 0.0643     \n",
      "Epoch 107/200\n",
      "700/700 [==============================] - 0s - loss: 0.0275 - acc: 0.0600     \n",
      "Epoch 108/200\n",
      "700/700 [==============================] - 0s - loss: 0.0253 - acc: 0.0600     \n",
      "Epoch 109/200\n",
      "700/700 [==============================] - 0s - loss: 0.0258 - acc: 0.0614     \n",
      "Epoch 110/200\n",
      "700/700 [==============================] - 0s - loss: 0.0288 - acc: 0.0600     \n",
      "Epoch 111/200\n",
      "700/700 [==============================] - 0s - loss: 0.0214 - acc: 0.0671     \n",
      "Epoch 112/200\n",
      "700/700 [==============================] - 0s - loss: 0.0223 - acc: 0.0629     \n",
      "Epoch 113/200\n",
      "700/700 [==============================] - 0s - loss: 0.0202 - acc: 0.0614     \n",
      "Epoch 114/200\n",
      "700/700 [==============================] - 0s - loss: 0.0226 - acc: 0.0614     \n",
      "Epoch 115/200\n",
      "700/700 [==============================] - 0s - loss: 0.0213 - acc: 0.0671     \n",
      "Epoch 116/200\n",
      "700/700 [==============================] - 0s - loss: 0.0207 - acc: 0.0600     \n",
      "Epoch 117/200\n",
      "700/700 [==============================] - 0s - loss: 0.0267 - acc: 0.0586     \n",
      "Epoch 118/200\n",
      "700/700 [==============================] - 0s - loss: 0.0194 - acc: 0.0657     \n",
      "Epoch 119/200\n",
      "700/700 [==============================] - 0s - loss: 0.0236 - acc: 0.0600     \n",
      "Epoch 120/200\n",
      "700/700 [==============================] - 0s - loss: 0.0217 - acc: 0.0657     \n",
      "Epoch 121/200\n",
      "700/700 [==============================] - 0s - loss: 0.0207 - acc: 0.0657     \n",
      "Epoch 122/200\n",
      "700/700 [==============================] - 0s - loss: 0.0242 - acc: 0.0643     \n",
      "Epoch 123/200\n",
      "700/700 [==============================] - 0s - loss: 0.0226 - acc: 0.0657     \n",
      "Epoch 124/200\n",
      "700/700 [==============================] - 0s - loss: 0.0248 - acc: 0.0657     \n",
      "Epoch 125/200\n",
      "700/700 [==============================] - 0s - loss: 0.0239 - acc: 0.0643     \n",
      "Epoch 126/200\n",
      "700/700 [==============================] - 0s - loss: 0.0217 - acc: 0.0629     \n",
      "Epoch 127/200\n",
      "700/700 [==============================] - 0s - loss: 0.0233 - acc: 0.0643     \n",
      "Epoch 128/200\n",
      "700/700 [==============================] - 0s - loss: 0.0311 - acc: 0.0614     \n",
      "Epoch 129/200\n",
      "700/700 [==============================] - 0s - loss: 0.0219 - acc: 0.0600     \n",
      "Epoch 130/200\n",
      "700/700 [==============================] - 0s - loss: 0.0273 - acc: 0.0600     \n",
      "Epoch 131/200\n",
      "700/700 [==============================] - 0s - loss: 0.0259 - acc: 0.0557     \n",
      "Epoch 132/200\n",
      "700/700 [==============================] - 0s - loss: 0.0298 - acc: 0.0586     \n",
      "Epoch 133/200\n",
      "700/700 [==============================] - 0s - loss: 0.0193 - acc: 0.0629     \n",
      "Epoch 134/200\n",
      "700/700 [==============================] - 0s - loss: 0.0226 - acc: 0.0600     \n",
      "Epoch 135/200\n",
      "700/700 [==============================] - 0s - loss: 0.0275 - acc: 0.0600     \n",
      "Epoch 136/200\n",
      "700/700 [==============================] - 0s - loss: 0.0257 - acc: 0.0557     \n",
      "Epoch 137/200\n",
      "700/700 [==============================] - 0s - loss: 0.0264 - acc: 0.0643     \n",
      "Epoch 138/200\n",
      "700/700 [==============================] - 0s - loss: 0.0237 - acc: 0.0571     \n",
      "Epoch 139/200\n",
      "700/700 [==============================] - 0s - loss: 0.0262 - acc: 0.0571     \n",
      "Epoch 140/200\n",
      "700/700 [==============================] - 0s - loss: 0.0250 - acc: 0.0571     \n",
      "Epoch 141/200\n",
      "700/700 [==============================] - 0s - loss: 0.0219 - acc: 0.0643     \n",
      "Epoch 142/200\n",
      "700/700 [==============================] - 0s - loss: 0.0246 - acc: 0.0614     \n",
      "Epoch 143/200\n",
      "700/700 [==============================] - 0s - loss: 0.0223 - acc: 0.0657     \n",
      "Epoch 144/200\n",
      "700/700 [==============================] - 0s - loss: 0.0265 - acc: 0.0586     \n",
      "Epoch 145/200\n",
      "700/700 [==============================] - 0s - loss: 0.0222 - acc: 0.0629     \n",
      "Epoch 146/200\n",
      "700/700 [==============================] - 0s - loss: 0.0238 - acc: 0.0657     \n",
      "Epoch 147/200\n",
      "700/700 [==============================] - 0s - loss: 0.0250 - acc: 0.0643     \n",
      "Epoch 148/200\n",
      "700/700 [==============================] - 0s - loss: 0.0200 - acc: 0.0629     \n",
      "Epoch 149/200\n",
      "700/700 [==============================] - 0s - loss: 0.0251 - acc: 0.0643     \n",
      "Epoch 150/200\n",
      "700/700 [==============================] - 0s - loss: 0.0206 - acc: 0.0671     \n",
      "Epoch 151/200\n",
      "700/700 [==============================] - 0s - loss: 0.0293 - acc: 0.0586     \n",
      "Epoch 152/200\n",
      "700/700 [==============================] - 0s - loss: 0.0226 - acc: 0.0600     \n",
      "Epoch 153/200\n",
      "700/700 [==============================] - 0s - loss: 0.0217 - acc: 0.0629     \n",
      "Epoch 154/200\n",
      "700/700 [==============================] - 0s - loss: 0.0232 - acc: 0.0629     \n",
      "Epoch 155/200\n",
      "700/700 [==============================] - 0s - loss: 0.0264 - acc: 0.0600     \n",
      "Epoch 156/200\n",
      "700/700 [==============================] - 0s - loss: 0.0291 - acc: 0.0557     \n",
      "Epoch 157/200\n",
      "700/700 [==============================] - 0s - loss: 0.0220 - acc: 0.0614     \n",
      "Epoch 158/200\n",
      "700/700 [==============================] - 0s - loss: 0.0247 - acc: 0.0614     \n",
      "Epoch 159/200\n",
      "700/700 [==============================] - 0s - loss: 0.0205 - acc: 0.0643     \n",
      "Epoch 160/200\n",
      "700/700 [==============================] - 0s - loss: 0.0243 - acc: 0.0600         \n",
      "Epoch 161/200\n",
      "700/700 [==============================] - 0s - loss: 0.0251 - acc: 0.0629         \n",
      "Epoch 162/200\n",
      "700/700 [==============================] - 0s - loss: 0.0223 - acc: 0.0657     \n",
      "Epoch 163/200\n",
      "700/700 [==============================] - 0s - loss: 0.0215 - acc: 0.0614     \n",
      "Epoch 164/200\n",
      "700/700 [==============================] - 0s - loss: 0.0259 - acc: 0.0586     \n",
      "Epoch 165/200\n",
      "700/700 [==============================] - 0s - loss: 0.0240 - acc: 0.0600     \n",
      "Epoch 166/200\n",
      "700/700 [==============================] - 0s - loss: 0.0288 - acc: 0.0571     \n",
      "Epoch 167/200\n",
      "700/700 [==============================] - 0s - loss: 0.0234 - acc: 0.0586     \n",
      "Epoch 168/200\n",
      "700/700 [==============================] - 0s - loss: 0.0259 - acc: 0.0629     \n",
      "Epoch 169/200\n",
      "700/700 [==============================] - 0s - loss: 0.0258 - acc: 0.0571     \n",
      "Epoch 170/200\n",
      "700/700 [==============================] - 0s - loss: 0.0226 - acc: 0.0614     \n",
      "Epoch 171/200\n",
      "700/700 [==============================] - 0s - loss: 0.0228 - acc: 0.0643     \n",
      "Epoch 172/200\n",
      "700/700 [==============================] - 0s - loss: 0.0184 - acc: 0.0671     \n",
      "Epoch 173/200\n",
      "700/700 [==============================] - 0s - loss: 0.0235 - acc: 0.0614     \n",
      "Epoch 174/200\n",
      "700/700 [==============================] - 0s - loss: 0.0241 - acc: 0.0643     \n",
      "Epoch 175/200\n",
      "700/700 [==============================] - 0s - loss: 0.0251 - acc: 0.0657     \n",
      "Epoch 176/200\n",
      "700/700 [==============================] - 0s - loss: 0.0227 - acc: 0.0629     \n",
      "Epoch 177/200\n",
      "700/700 [==============================] - 0s - loss: 0.0226 - acc: 0.0629     \n",
      "Epoch 178/200\n",
      "700/700 [==============================] - 0s - loss: 0.0218 - acc: 0.0629     \n",
      "Epoch 179/200\n",
      "700/700 [==============================] - 0s - loss: 0.0219 - acc: 0.0600     \n",
      "Epoch 180/200\n",
      "700/700 [==============================] - 0s - loss: 0.0192 - acc: 0.0671     \n",
      "Epoch 181/200\n",
      "700/700 [==============================] - 0s - loss: 0.0245 - acc: 0.0657     \n",
      "Epoch 182/200\n",
      "700/700 [==============================] - 0s - loss: 0.0234 - acc: 0.0643     \n",
      "Epoch 183/200\n",
      "700/700 [==============================] - 0s - loss: 0.0223 - acc: 0.0643     \n",
      "Epoch 184/200\n",
      "700/700 [==============================] - 0s - loss: 0.0198 - acc: 0.0629     \n",
      "Epoch 185/200\n",
      "700/700 [==============================] - 0s - loss: 0.0241 - acc: 0.0571     \n",
      "Epoch 186/200\n",
      "700/700 [==============================] - 0s - loss: 0.0254 - acc: 0.0643     \n",
      "Epoch 187/200\n",
      "700/700 [==============================] - 0s - loss: 0.0264 - acc: 0.0657     \n",
      "Epoch 188/200\n",
      "700/700 [==============================] - 0s - loss: 0.0234 - acc: 0.0629     \n",
      "Epoch 189/200\n",
      "700/700 [==============================] - 0s - loss: 0.0273 - acc: 0.0571     \n",
      "Epoch 190/200\n",
      "700/700 [==============================] - 0s - loss: 0.0236 - acc: 0.0614     \n",
      "Epoch 191/200\n",
      "700/700 [==============================] - 0s - loss: 0.0228 - acc: 0.0614     \n",
      "Epoch 192/200\n",
      "700/700 [==============================] - 0s - loss: 0.0203 - acc: 0.0657     \n",
      "Epoch 193/200\n",
      "700/700 [==============================] - 0s - loss: 0.0192 - acc: 0.0671     \n",
      "Epoch 194/200\n",
      "700/700 [==============================] - 0s - loss: 0.0205 - acc: 0.0671     \n",
      "Epoch 195/200\n",
      "700/700 [==============================] - 0s - loss: 0.0214 - acc: 0.0643     \n",
      "Epoch 196/200\n",
      "700/700 [==============================] - 0s - loss: 0.0261 - acc: 0.0543     \n",
      "Epoch 197/200\n",
      "700/700 [==============================] - 0s - loss: 0.0237 - acc: 0.0614     \n",
      "Epoch 198/200\n",
      "700/700 [==============================] - 0s - loss: 0.0235 - acc: 0.0629     \n",
      "Epoch 199/200\n",
      "700/700 [==============================] - 0s - loss: 0.0243 - acc: 0.0629     \n",
      "Epoch 200/200\n",
      "700/700 [==============================] - 0s - loss: 0.0248 - acc: 0.0600     \n"
     ]
    },
    {
     "data": {
      "text/plain": [
       "<keras.callbacks.History at 0x1205d7518>"
      ]
     },
     "execution_count": 17,
     "metadata": {},
     "output_type": "execute_result"
    }
   ],
   "source": [
    "model.fit(x_train, y_train, epochs=200)"
   ]
  },
  {
   "cell_type": "markdown",
   "metadata": {},
   "source": [
    "We will find the error using model.evaluate and also predict the values for Y, the timeTilBroken, using model.predict. We will scale it back to its original shape and then remove negative values, as timeTilBroken cannot be negative. For the correct values, we will scale it back and remove negative values too. \n",
    "\n",
    "We will then plot the Real vs Predicted data points. We observe that our model is very accurate for this dataset. The first fraph shows all the test data. The second graph shows the first 50 test data."
   ]
  },
  {
   "cell_type": "code",
   "execution_count": 18,
   "metadata": {
    "collapsed": false
   },
   "outputs": [],
   "source": [
    "score = model.evaluate(x_test, y_test, verbose=0)\n",
    "\n",
    "predicted = model.predict(x_test)\n",
    "predicted = y_scaler.inverse_transform(predicted)\n",
    "predicted = [x if x > 0 else 0 for x in predicted]\n",
    "\n",
    "correct_values = y_scaler.inverse_transform(y_test)\n",
    "correct_values = [x if x > 0 else 0 for x in correct_values]\n",
    "#print(nb_predict_train)"
   ]
  },
  {
   "cell_type": "code",
   "execution_count": 19,
   "metadata": {
    "collapsed": false
   },
   "outputs": [
    {
     "name": "stdout",
     "output_type": "stream",
     "text": [
      "Score:\n",
      "[0.0030352079495787622, 0.080000000000000002]\n"
     ]
    },
    {
     "data": {
      "image/png": "[encoded data removed]",
      "text/plain": [
       "<matplotlib.figure.Figure at 0x120826cc0>"
      ]
     },
     "metadata": {},
     "output_type": "display_data"
    },
    {
     "data": {
      "image/png": "[encoded data removed]",
      "text/plain": [
       "<matplotlib.figure.Figure at 0x12085c898>"
      ]
     },
     "metadata": {},
     "output_type": "display_data"
    }
   ],
   "source": [
    "print(\"Score:\")\n",
    "print(score)\n",
    "\n",
    "pyplot.plot(predicted, 'r-', label='Predicted Days Until Failure Values')\n",
    "pyplot.plot(correct_values, 'b-', label='Correct Days Until Failure Values')\n",
    "pyplot.legend()\n",
    "pyplot.show()\n",
    "\n",
    "pyplot.plot(predicted[0:50], 'r-', label='Predicted Days Until Failure Values')\n",
    "pyplot.plot(correct_values[0:50], 'b-', label='Correct Days Until Failure Values')\n",
    "pyplot.legend()\n",
    "pyplot.show()"
   ]
  }
 ],
 "metadata": {
  "anaconda-cloud": {},
  "kernelspec": {
   "display_name": "Python [Root]",
   "language": "python",
   "name": "Python [Root]"
  },
  "language_info": {
   "codemirror_mode": {
    "name": "ipython",
    "version": 3
   },
   "file_extension": ".py",
   "mimetype": "text/x-python",
   "name": "python",
   "nbconvert_exporter": "python",
   "pygments_lexer": "ipython3",
   "version": "3.5.2"
  }
 },
 "nbformat": 4,
 "nbformat_minor": 0
}
